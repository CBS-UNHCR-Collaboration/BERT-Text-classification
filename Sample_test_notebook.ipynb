{
  "nbformat": 4,
  "nbformat_minor": 0,
  "metadata": {
    "colab": {
      "name": "Sample-test-notebook.ipynb",
      "provenance": [],
      "authorship_tag": "ABX9TyOrnBcdBtuKrAQ+VRGomxWX",
      "include_colab_link": true
    },
    "kernelspec": {
      "name": "python3",
      "display_name": "Python 3"
    },
    "language_info": {
      "name": "python"
    }
  },
  "cells": [
    {
      "cell_type": "markdown",
      "metadata": {
        "id": "view-in-github",
        "colab_type": "text"
      },
      "source": [
        "<a href=\"https://colab.research.google.com/github/CBS-UNHCR-Collaboration/BERT-Text-classification/blob/main/Sample_test_notebook.ipynb\" target=\"_parent\"><img src=\"https://colab.research.google.com/assets/colab-badge.svg\" alt=\"Open In Colab\"/></a>"
      ]
    },
    {
      "cell_type": "code",
      "metadata": {
        "colab": {
          "base_uri": "https://localhost:8080/"
        },
        "id": "S36q1TcsuTmL",
        "outputId": "505d70fd-5d69-4f43-ad55-5719289ce766"
      },
      "source": [
        "import sys\n",
        "\n",
        "print('raghava')"
      ],
      "execution_count": 2,
      "outputs": [
        {
          "output_type": "stream",
          "text": [
            "raghava\n"
          ],
          "name": "stdout"
        }
      ]
    }
  ]
}