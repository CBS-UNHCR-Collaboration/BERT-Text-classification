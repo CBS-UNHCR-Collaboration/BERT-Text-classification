{
  "nbformat": 4,
  "nbformat_minor": 0,
  "metadata": {
    "colab": {
      "name": "Raghava-BERT-for-Attitude-Analysis-UNHCR.ipynb",
      "provenance": [],
      "collapsed_sections": [],
      "include_colab_link": true
    },
    "kernelspec": {
      "name": "python3",
      "display_name": "Python 3"
    },
    "widgets": {
      "application/vnd.jupyter.widget-state+json": {
        "c7c0d9606bb343c88fc42f65855f9eab": {
          "model_module": "@jupyter-widgets/controls",
          "model_name": "HBoxModel",
          "state": {
            "_view_name": "HBoxView",
            "_dom_classes": [],
            "_model_name": "HBoxModel",
            "_view_module": "@jupyter-widgets/controls",
            "_model_module_version": "1.5.0",
            "_view_count": null,
            "_view_module_version": "1.5.0",
            "box_style": "",
            "layout": "IPY_MODEL_d4d91256af7a4d7a86b2bfd6f6eabe5b",
            "_model_module": "@jupyter-widgets/controls",
            "children": [
              "IPY_MODEL_10f54508d4c248a992cbf374a689501c",
              "IPY_MODEL_392e49e82127455cadc48c7c95847dec"
            ]
          }
        },
        "d4d91256af7a4d7a86b2bfd6f6eabe5b": {
          "model_module": "@jupyter-widgets/base",
          "model_name": "LayoutModel",
          "state": {
            "_view_name": "LayoutView",
            "grid_template_rows": null,
            "right": null,
            "justify_content": null,
            "_view_module": "@jupyter-widgets/base",
            "overflow": null,
            "_model_module_version": "1.2.0",
            "_view_count": null,
            "flex_flow": null,
            "width": null,
            "min_width": null,
            "border": null,
            "align_items": null,
            "bottom": null,
            "_model_module": "@jupyter-widgets/base",
            "top": null,
            "grid_column": null,
            "overflow_y": null,
            "overflow_x": null,
            "grid_auto_flow": null,
            "grid_area": null,
            "grid_template_columns": null,
            "flex": null,
            "_model_name": "LayoutModel",
            "justify_items": null,
            "grid_row": null,
            "max_height": null,
            "align_content": null,
            "visibility": null,
            "align_self": null,
            "height": null,
            "min_height": null,
            "padding": null,
            "grid_auto_rows": null,
            "grid_gap": null,
            "max_width": null,
            "order": null,
            "_view_module_version": "1.2.0",
            "grid_template_areas": null,
            "object_position": null,
            "object_fit": null,
            "grid_auto_columns": null,
            "margin": null,
            "display": null,
            "left": null
          }
        },
        "10f54508d4c248a992cbf374a689501c": {
          "model_module": "@jupyter-widgets/controls",
          "model_name": "FloatProgressModel",
          "state": {
            "_view_name": "ProgressView",
            "style": "IPY_MODEL_d9ae45fc37ea419c850fa7814f0700ec",
            "_dom_classes": [],
            "description": "Downloading: 100%",
            "_model_name": "FloatProgressModel",
            "bar_style": "success",
            "max": 231508,
            "_view_module": "@jupyter-widgets/controls",
            "_model_module_version": "1.5.0",
            "value": 231508,
            "_view_count": null,
            "_view_module_version": "1.5.0",
            "orientation": "horizontal",
            "min": 0,
            "description_tooltip": null,
            "_model_module": "@jupyter-widgets/controls",
            "layout": "IPY_MODEL_c7bbdc986c7a4e2ea1922c33bea44930"
          }
        },
        "392e49e82127455cadc48c7c95847dec": {
          "model_module": "@jupyter-widgets/controls",
          "model_name": "HTMLModel",
          "state": {
            "_view_name": "HTMLView",
            "style": "IPY_MODEL_9a303aa6cd024af9a5e9594425ad1fbd",
            "_dom_classes": [],
            "description": "",
            "_model_name": "HTMLModel",
            "placeholder": "​",
            "_view_module": "@jupyter-widgets/controls",
            "_model_module_version": "1.5.0",
            "value": " 232k/232k [00:00&lt;00:00, 2.85MB/s]",
            "_view_count": null,
            "_view_module_version": "1.5.0",
            "description_tooltip": null,
            "_model_module": "@jupyter-widgets/controls",
            "layout": "IPY_MODEL_41c9a65f1bfb4be38ab123d7dfb8c7d3"
          }
        },
        "d9ae45fc37ea419c850fa7814f0700ec": {
          "model_module": "@jupyter-widgets/controls",
          "model_name": "ProgressStyleModel",
          "state": {
            "_view_name": "StyleView",
            "_model_name": "ProgressStyleModel",
            "description_width": "initial",
            "_view_module": "@jupyter-widgets/base",
            "_model_module_version": "1.5.0",
            "_view_count": null,
            "_view_module_version": "1.2.0",
            "bar_color": null,
            "_model_module": "@jupyter-widgets/controls"
          }
        },
        "c7bbdc986c7a4e2ea1922c33bea44930": {
          "model_module": "@jupyter-widgets/base",
          "model_name": "LayoutModel",
          "state": {
            "_view_name": "LayoutView",
            "grid_template_rows": null,
            "right": null,
            "justify_content": null,
            "_view_module": "@jupyter-widgets/base",
            "overflow": null,
            "_model_module_version": "1.2.0",
            "_view_count": null,
            "flex_flow": null,
            "width": null,
            "min_width": null,
            "border": null,
            "align_items": null,
            "bottom": null,
            "_model_module": "@jupyter-widgets/base",
            "top": null,
            "grid_column": null,
            "overflow_y": null,
            "overflow_x": null,
            "grid_auto_flow": null,
            "grid_area": null,
            "grid_template_columns": null,
            "flex": null,
            "_model_name": "LayoutModel",
            "justify_items": null,
            "grid_row": null,
            "max_height": null,
            "align_content": null,
            "visibility": null,
            "align_self": null,
            "height": null,
            "min_height": null,
            "padding": null,
            "grid_auto_rows": null,
            "grid_gap": null,
            "max_width": null,
            "order": null,
            "_view_module_version": "1.2.0",
            "grid_template_areas": null,
            "object_position": null,
            "object_fit": null,
            "grid_auto_columns": null,
            "margin": null,
            "display": null,
            "left": null
          }
        },
        "9a303aa6cd024af9a5e9594425ad1fbd": {
          "model_module": "@jupyter-widgets/controls",
          "model_name": "DescriptionStyleModel",
          "state": {
            "_view_name": "StyleView",
            "_model_name": "DescriptionStyleModel",
            "description_width": "",
            "_view_module": "@jupyter-widgets/base",
            "_model_module_version": "1.5.0",
            "_view_count": null,
            "_view_module_version": "1.2.0",
            "_model_module": "@jupyter-widgets/controls"
          }
        },
        "41c9a65f1bfb4be38ab123d7dfb8c7d3": {
          "model_module": "@jupyter-widgets/base",
          "model_name": "LayoutModel",
          "state": {
            "_view_name": "LayoutView",
            "grid_template_rows": null,
            "right": null,
            "justify_content": null,
            "_view_module": "@jupyter-widgets/base",
            "overflow": null,
            "_model_module_version": "1.2.0",
            "_view_count": null,
            "flex_flow": null,
            "width": null,
            "min_width": null,
            "border": null,
            "align_items": null,
            "bottom": null,
            "_model_module": "@jupyter-widgets/base",
            "top": null,
            "grid_column": null,
            "overflow_y": null,
            "overflow_x": null,
            "grid_auto_flow": null,
            "grid_area": null,
            "grid_template_columns": null,
            "flex": null,
            "_model_name": "LayoutModel",
            "justify_items": null,
            "grid_row": null,
            "max_height": null,
            "align_content": null,
            "visibility": null,
            "align_self": null,
            "height": null,
            "min_height": null,
            "padding": null,
            "grid_auto_rows": null,
            "grid_gap": null,
            "max_width": null,
            "order": null,
            "_view_module_version": "1.2.0",
            "grid_template_areas": null,
            "object_position": null,
            "object_fit": null,
            "grid_auto_columns": null,
            "margin": null,
            "display": null,
            "left": null
          }
        },
        "b836ac751c3245eca54d37274e3829d8": {
          "model_module": "@jupyter-widgets/controls",
          "model_name": "HBoxModel",
          "state": {
            "_view_name": "HBoxView",
            "_dom_classes": [],
            "_model_name": "HBoxModel",
            "_view_module": "@jupyter-widgets/controls",
            "_model_module_version": "1.5.0",
            "_view_count": null,
            "_view_module_version": "1.5.0",
            "box_style": "",
            "layout": "IPY_MODEL_ed8b672622ca40948c7a0b9fcf06c9ca",
            "_model_module": "@jupyter-widgets/controls",
            "children": [
              "IPY_MODEL_4230b12aa62942bf9cfabf472b65a3cc",
              "IPY_MODEL_acd5341e68de4042912716d40db37855"
            ]
          }
        },
        "ed8b672622ca40948c7a0b9fcf06c9ca": {
          "model_module": "@jupyter-widgets/base",
          "model_name": "LayoutModel",
          "state": {
            "_view_name": "LayoutView",
            "grid_template_rows": null,
            "right": null,
            "justify_content": null,
            "_view_module": "@jupyter-widgets/base",
            "overflow": null,
            "_model_module_version": "1.2.0",
            "_view_count": null,
            "flex_flow": null,
            "width": null,
            "min_width": null,
            "border": null,
            "align_items": null,
            "bottom": null,
            "_model_module": "@jupyter-widgets/base",
            "top": null,
            "grid_column": null,
            "overflow_y": null,
            "overflow_x": null,
            "grid_auto_flow": null,
            "grid_area": null,
            "grid_template_columns": null,
            "flex": null,
            "_model_name": "LayoutModel",
            "justify_items": null,
            "grid_row": null,
            "max_height": null,
            "align_content": null,
            "visibility": null,
            "align_self": null,
            "height": null,
            "min_height": null,
            "padding": null,
            "grid_auto_rows": null,
            "grid_gap": null,
            "max_width": null,
            "order": null,
            "_view_module_version": "1.2.0",
            "grid_template_areas": null,
            "object_position": null,
            "object_fit": null,
            "grid_auto_columns": null,
            "margin": null,
            "display": null,
            "left": null
          }
        },
        "4230b12aa62942bf9cfabf472b65a3cc": {
          "model_module": "@jupyter-widgets/controls",
          "model_name": "FloatProgressModel",
          "state": {
            "_view_name": "ProgressView",
            "style": "IPY_MODEL_eecd597c5486487a8d7def937760db56",
            "_dom_classes": [],
            "description": "Downloading: 100%",
            "_model_name": "FloatProgressModel",
            "bar_style": "success",
            "max": 433,
            "_view_module": "@jupyter-widgets/controls",
            "_model_module_version": "1.5.0",
            "value": 433,
            "_view_count": null,
            "_view_module_version": "1.5.0",
            "orientation": "horizontal",
            "min": 0,
            "description_tooltip": null,
            "_model_module": "@jupyter-widgets/controls",
            "layout": "IPY_MODEL_f2ba9b4ef45b47e9bd937b53167163b2"
          }
        },
        "acd5341e68de4042912716d40db37855": {
          "model_module": "@jupyter-widgets/controls",
          "model_name": "HTMLModel",
          "state": {
            "_view_name": "HTMLView",
            "style": "IPY_MODEL_bcd00eb81dbd4d7dba83d4e659b3dfda",
            "_dom_classes": [],
            "description": "",
            "_model_name": "HTMLModel",
            "placeholder": "​",
            "_view_module": "@jupyter-widgets/controls",
            "_model_module_version": "1.5.0",
            "value": " 433/433 [00:00&lt;00:00, 1.99kB/s]",
            "_view_count": null,
            "_view_module_version": "1.5.0",
            "description_tooltip": null,
            "_model_module": "@jupyter-widgets/controls",
            "layout": "IPY_MODEL_5ffbe83dcf8d4dda9de6905372e333a1"
          }
        },
        "eecd597c5486487a8d7def937760db56": {
          "model_module": "@jupyter-widgets/controls",
          "model_name": "ProgressStyleModel",
          "state": {
            "_view_name": "StyleView",
            "_model_name": "ProgressStyleModel",
            "description_width": "initial",
            "_view_module": "@jupyter-widgets/base",
            "_model_module_version": "1.5.0",
            "_view_count": null,
            "_view_module_version": "1.2.0",
            "bar_color": null,
            "_model_module": "@jupyter-widgets/controls"
          }
        },
        "f2ba9b4ef45b47e9bd937b53167163b2": {
          "model_module": "@jupyter-widgets/base",
          "model_name": "LayoutModel",
          "state": {
            "_view_name": "LayoutView",
            "grid_template_rows": null,
            "right": null,
            "justify_content": null,
            "_view_module": "@jupyter-widgets/base",
            "overflow": null,
            "_model_module_version": "1.2.0",
            "_view_count": null,
            "flex_flow": null,
            "width": null,
            "min_width": null,
            "border": null,
            "align_items": null,
            "bottom": null,
            "_model_module": "@jupyter-widgets/base",
            "top": null,
            "grid_column": null,
            "overflow_y": null,
            "overflow_x": null,
            "grid_auto_flow": null,
            "grid_area": null,
            "grid_template_columns": null,
            "flex": null,
            "_model_name": "LayoutModel",
            "justify_items": null,
            "grid_row": null,
            "max_height": null,
            "align_content": null,
            "visibility": null,
            "align_self": null,
            "height": null,
            "min_height": null,
            "padding": null,
            "grid_auto_rows": null,
            "grid_gap": null,
            "max_width": null,
            "order": null,
            "_view_module_version": "1.2.0",
            "grid_template_areas": null,
            "object_position": null,
            "object_fit": null,
            "grid_auto_columns": null,
            "margin": null,
            "display": null,
            "left": null
          }
        },
        "bcd00eb81dbd4d7dba83d4e659b3dfda": {
          "model_module": "@jupyter-widgets/controls",
          "model_name": "DescriptionStyleModel",
          "state": {
            "_view_name": "StyleView",
            "_model_name": "DescriptionStyleModel",
            "description_width": "",
            "_view_module": "@jupyter-widgets/base",
            "_model_module_version": "1.5.0",
            "_view_count": null,
            "_view_module_version": "1.2.0",
            "_model_module": "@jupyter-widgets/controls"
          }
        },
        "5ffbe83dcf8d4dda9de6905372e333a1": {
          "model_module": "@jupyter-widgets/base",
          "model_name": "LayoutModel",
          "state": {
            "_view_name": "LayoutView",
            "grid_template_rows": null,
            "right": null,
            "justify_content": null,
            "_view_module": "@jupyter-widgets/base",
            "overflow": null,
            "_model_module_version": "1.2.0",
            "_view_count": null,
            "flex_flow": null,
            "width": null,
            "min_width": null,
            "border": null,
            "align_items": null,
            "bottom": null,
            "_model_module": "@jupyter-widgets/base",
            "top": null,
            "grid_column": null,
            "overflow_y": null,
            "overflow_x": null,
            "grid_auto_flow": null,
            "grid_area": null,
            "grid_template_columns": null,
            "flex": null,
            "_model_name": "LayoutModel",
            "justify_items": null,
            "grid_row": null,
            "max_height": null,
            "align_content": null,
            "visibility": null,
            "align_self": null,
            "height": null,
            "min_height": null,
            "padding": null,
            "grid_auto_rows": null,
            "grid_gap": null,
            "max_width": null,
            "order": null,
            "_view_module_version": "1.2.0",
            "grid_template_areas": null,
            "object_position": null,
            "object_fit": null,
            "grid_auto_columns": null,
            "margin": null,
            "display": null,
            "left": null
          }
        },
        "662abf1bdf1a46368fd8c67d94d0ab81": {
          "model_module": "@jupyter-widgets/controls",
          "model_name": "HBoxModel",
          "state": {
            "_view_name": "HBoxView",
            "_dom_classes": [],
            "_model_name": "HBoxModel",
            "_view_module": "@jupyter-widgets/controls",
            "_model_module_version": "1.5.0",
            "_view_count": null,
            "_view_module_version": "1.5.0",
            "box_style": "",
            "layout": "IPY_MODEL_3bf669dbaf5e417b8844d37b44e82f29",
            "_model_module": "@jupyter-widgets/controls",
            "children": [
              "IPY_MODEL_3d0e3c3b2b984ca9ab78542864d96188",
              "IPY_MODEL_e26f88c032f5411392d782058d278ba7"
            ]
          }
        },
        "3bf669dbaf5e417b8844d37b44e82f29": {
          "model_module": "@jupyter-widgets/base",
          "model_name": "LayoutModel",
          "state": {
            "_view_name": "LayoutView",
            "grid_template_rows": null,
            "right": null,
            "justify_content": null,
            "_view_module": "@jupyter-widgets/base",
            "overflow": null,
            "_model_module_version": "1.2.0",
            "_view_count": null,
            "flex_flow": null,
            "width": null,
            "min_width": null,
            "border": null,
            "align_items": null,
            "bottom": null,
            "_model_module": "@jupyter-widgets/base",
            "top": null,
            "grid_column": null,
            "overflow_y": null,
            "overflow_x": null,
            "grid_auto_flow": null,
            "grid_area": null,
            "grid_template_columns": null,
            "flex": null,
            "_model_name": "LayoutModel",
            "justify_items": null,
            "grid_row": null,
            "max_height": null,
            "align_content": null,
            "visibility": null,
            "align_self": null,
            "height": null,
            "min_height": null,
            "padding": null,
            "grid_auto_rows": null,
            "grid_gap": null,
            "max_width": null,
            "order": null,
            "_view_module_version": "1.2.0",
            "grid_template_areas": null,
            "object_position": null,
            "object_fit": null,
            "grid_auto_columns": null,
            "margin": null,
            "display": null,
            "left": null
          }
        },
        "3d0e3c3b2b984ca9ab78542864d96188": {
          "model_module": "@jupyter-widgets/controls",
          "model_name": "FloatProgressModel",
          "state": {
            "_view_name": "ProgressView",
            "style": "IPY_MODEL_35f64f3256bf42258555eb2ec2d7739b",
            "_dom_classes": [],
            "description": "Downloading: 100%",
            "_model_name": "FloatProgressModel",
            "bar_style": "success",
            "max": 440473133,
            "_view_module": "@jupyter-widgets/controls",
            "_model_module_version": "1.5.0",
            "value": 440473133,
            "_view_count": null,
            "_view_module_version": "1.5.0",
            "orientation": "horizontal",
            "min": 0,
            "description_tooltip": null,
            "_model_module": "@jupyter-widgets/controls",
            "layout": "IPY_MODEL_ec8ec8eb45264da39ef7c2567faf4566"
          }
        },
        "e26f88c032f5411392d782058d278ba7": {
          "model_module": "@jupyter-widgets/controls",
          "model_name": "HTMLModel",
          "state": {
            "_view_name": "HTMLView",
            "style": "IPY_MODEL_f629501080fd4432b053154fba7e8a4a",
            "_dom_classes": [],
            "description": "",
            "_model_name": "HTMLModel",
            "placeholder": "​",
            "_view_module": "@jupyter-widgets/controls",
            "_model_module_version": "1.5.0",
            "value": " 440M/440M [00:25&lt;00:00, 17.5MB/s]",
            "_view_count": null,
            "_view_module_version": "1.5.0",
            "description_tooltip": null,
            "_model_module": "@jupyter-widgets/controls",
            "layout": "IPY_MODEL_a17805dc809c4cd985e80ca324aae9e9"
          }
        },
        "35f64f3256bf42258555eb2ec2d7739b": {
          "model_module": "@jupyter-widgets/controls",
          "model_name": "ProgressStyleModel",
          "state": {
            "_view_name": "StyleView",
            "_model_name": "ProgressStyleModel",
            "description_width": "initial",
            "_view_module": "@jupyter-widgets/base",
            "_model_module_version": "1.5.0",
            "_view_count": null,
            "_view_module_version": "1.2.0",
            "bar_color": null,
            "_model_module": "@jupyter-widgets/controls"
          }
        },
        "ec8ec8eb45264da39ef7c2567faf4566": {
          "model_module": "@jupyter-widgets/base",
          "model_name": "LayoutModel",
          "state": {
            "_view_name": "LayoutView",
            "grid_template_rows": null,
            "right": null,
            "justify_content": null,
            "_view_module": "@jupyter-widgets/base",
            "overflow": null,
            "_model_module_version": "1.2.0",
            "_view_count": null,
            "flex_flow": null,
            "width": null,
            "min_width": null,
            "border": null,
            "align_items": null,
            "bottom": null,
            "_model_module": "@jupyter-widgets/base",
            "top": null,
            "grid_column": null,
            "overflow_y": null,
            "overflow_x": null,
            "grid_auto_flow": null,
            "grid_area": null,
            "grid_template_columns": null,
            "flex": null,
            "_model_name": "LayoutModel",
            "justify_items": null,
            "grid_row": null,
            "max_height": null,
            "align_content": null,
            "visibility": null,
            "align_self": null,
            "height": null,
            "min_height": null,
            "padding": null,
            "grid_auto_rows": null,
            "grid_gap": null,
            "max_width": null,
            "order": null,
            "_view_module_version": "1.2.0",
            "grid_template_areas": null,
            "object_position": null,
            "object_fit": null,
            "grid_auto_columns": null,
            "margin": null,
            "display": null,
            "left": null
          }
        },
        "f629501080fd4432b053154fba7e8a4a": {
          "model_module": "@jupyter-widgets/controls",
          "model_name": "DescriptionStyleModel",
          "state": {
            "_view_name": "StyleView",
            "_model_name": "DescriptionStyleModel",
            "description_width": "",
            "_view_module": "@jupyter-widgets/base",
            "_model_module_version": "1.5.0",
            "_view_count": null,
            "_view_module_version": "1.2.0",
            "_model_module": "@jupyter-widgets/controls"
          }
        },
        "a17805dc809c4cd985e80ca324aae9e9": {
          "model_module": "@jupyter-widgets/base",
          "model_name": "LayoutModel",
          "state": {
            "_view_name": "LayoutView",
            "grid_template_rows": null,
            "right": null,
            "justify_content": null,
            "_view_module": "@jupyter-widgets/base",
            "overflow": null,
            "_model_module_version": "1.2.0",
            "_view_count": null,
            "flex_flow": null,
            "width": null,
            "min_width": null,
            "border": null,
            "align_items": null,
            "bottom": null,
            "_model_module": "@jupyter-widgets/base",
            "top": null,
            "grid_column": null,
            "overflow_y": null,
            "overflow_x": null,
            "grid_auto_flow": null,
            "grid_area": null,
            "grid_template_columns": null,
            "flex": null,
            "_model_name": "LayoutModel",
            "justify_items": null,
            "grid_row": null,
            "max_height": null,
            "align_content": null,
            "visibility": null,
            "align_self": null,
            "height": null,
            "min_height": null,
            "padding": null,
            "grid_auto_rows": null,
            "grid_gap": null,
            "max_width": null,
            "order": null,
            "_view_module_version": "1.2.0",
            "grid_template_areas": null,
            "object_position": null,
            "object_fit": null,
            "grid_auto_columns": null,
            "margin": null,
            "display": null,
            "left": null
          }
        }
      }
    },
    "accelerator": "GPU"
  },
  "cells": [
    {
      "cell_type": "markdown",
      "metadata": {
        "id": "view-in-github",
        "colab_type": "text"
      },
      "source": [
        "<a href=\"https://colab.research.google.com/github/CBS-UNHCR-Collaboration/BERT-Text-classification/blob/main/notebooks/Raghava_BERT_for_Attitude_Analysis_UNHCR.ipynb\" target=\"_parent\"><img src=\"https://colab.research.google.com/assets/colab-badge.svg\" alt=\"Open In Colab\"/></a>"
      ]
    },
    {
      "cell_type": "markdown",
      "metadata": {
        "id": "sqg4y371CM7X"
      },
      "source": [
        "# Fine-tuning BERT for UNHCR Attitude Analysis\n",
        "Source: https://skimai.com/fine-tuning-bert-for-sentiment-analysis/\n",
        "\n",
        "[![Portfolio](https://img.shields.io/badge/Portfolio-chriskhanhtran.github.io-blue?logo=GitHub)](https://chriskhanhtran.github.io/)"
      ]
    },
    {
      "cell_type": "markdown",
      "metadata": {
        "id": "M2D_810Uruqe"
      },
      "source": [
        "# A - Introduction"
      ]
    },
    {
      "cell_type": "markdown",
      "metadata": {
        "id": "IT93d88Pcepn"
      },
      "source": [
        "In recent years the NLP community has seen many breakthoughs in Natural Language Processing, especially the shift to transfer learning. Models like ELMo, fast.ai's ULMFiT, Transformer and OpenAI's GPT have allowed researchers to achieves state-of-the-art results on multiple benchmarks and provided the community with large pre-trained models with high performance. This shift in NLP is seen as NLP's ImageNet moment, a shift in computer vision a few year ago when lower layers of deep learning networks with million of parameters trained on a specific task can be reused and fine-tuned for other tasks, rather than training new networks from scratch.\n",
        "\n",
        "One of the most biggest milestones in the evolution of NLP recently is the release of Google's BERT, which is described as the beginning of a new era in NLP. In this notebook I'll use the HuggingFace's `transformers` library to fine-tune pretrained BERT model for a classification task. Then I will compare the BERT's performance  with a baseline model, in which I use a TF-IDF vectorizer and a Naive Bayes classifier. The `transformers` library help us quickly and efficiently fine-tune the state-of-the-art BERT model and yield an accuracy rate **10%** higher than the baseline model.\n",
        "\n",
        "**Reference**:\n",
        "\n",
        "To understand **Transformer** (the architecture which BERT is built on) and learn how to implement BERT, I highly recommend reading the following sources:\n",
        "\n",
        "- [The Illustrated BERT, ELMo, and co.](http://jalammar.github.io/illustrated-bert/): A very clear and well-written guide to understand BERT.\n",
        "- [The documentation of the `transformers` library](https://huggingface.co/transformers/v2.2.0/index.html)\n",
        "- [BERT Fine-Tuning Tutorial with PyTorch](http://mccormickml.com/2019/07/22/BERT-fine-tuning/) by [Chris McCormick](http://mccormickml.com/): A very detailed tutorial showing how to use BERT with the HuggingFace PyTorch library.\n",
        "\n"
      ]
    },
    {
      "cell_type": "markdown",
      "metadata": {
        "id": "slO_rmYgwmmE"
      },
      "source": [
        "# B - Setup"
      ]
    },
    {
      "cell_type": "markdown",
      "metadata": {
        "id": "31OW0dhozvli"
      },
      "source": [
        "## 1. Load Essential Libraries"
      ]
    },
    {
      "cell_type": "code",
      "metadata": {
        "id": "_lTXsMK3sNYr"
      },
      "source": [
        "import os\n",
        "import re\n",
        "from tqdm import tqdm\n",
        "import numpy as np\n",
        "import pandas as pd\n",
        "import matplotlib.pyplot as plt\n",
        "\n",
        "%matplotlib inline"
      ],
      "execution_count": 1,
      "outputs": []
    },
    {
      "cell_type": "markdown",
      "metadata": {
        "id": "u07WRKnxsX96"
      },
      "source": [
        "## 2. Dataset"
      ]
    },
    {
      "cell_type": "markdown",
      "metadata": {
        "id": "HUh52C6MNvtH"
      },
      "source": [
        "## 2.1 Downloading Training set\n",
        "\n"
      ]
    },
    {
      "cell_type": "code",
      "metadata": {
        "colab": {
          "base_uri": "https://localhost:8080/"
        },
        "id": "ApKPica9N-if",
        "outputId": "6ff19395-0d54-4cba-e928-df596b622d50"
      },
      "source": [
        "filepath_to_git = 'https://raw.githubusercontent.com/CBS-UNHCR-Collaboration/BERT-Text-classification/main/training-set/UNHCR_Training-Data_combined.xlsx'\n",
        "\n",
        "# !wget filepath_to_git\n",
        "\n",
        "!wget 'https://raw.githubusercontent.com/CBS-UNHCR-Collaboration/BERT-Text-classification/main/training-set/UNHCR_Training-Data_combined.xlsx'\n",
        "\n",
        "print('file downloaded!')"
      ],
      "execution_count": 2,
      "outputs": [
        {
          "output_type": "stream",
          "text": [
            "--2021-07-10 21:38:37--  https://raw.githubusercontent.com/CBS-UNHCR-Collaboration/BERT-Text-classification/main/training-set/UNHCR_Training-Data_combined.xlsx\n",
            "Resolving raw.githubusercontent.com (raw.githubusercontent.com)... 185.199.110.133, 185.199.109.133, 185.199.111.133, ...\n",
            "Connecting to raw.githubusercontent.com (raw.githubusercontent.com)|185.199.110.133|:443... connected.\n",
            "HTTP request sent, awaiting response... 200 OK\n",
            "Length: 593473 (580K) [application/octet-stream]\n",
            "Saving to: ‘UNHCR_Training-Data_combined.xlsx’\n",
            "\n",
            "\r          UNHCR_Tra   0%[                    ]       0  --.-KB/s               \rUNHCR_Training-Data 100%[===================>] 579.56K  --.-KB/s    in 0.006s  \n",
            "\n",
            "2021-07-10 21:38:37 (97.0 MB/s) - ‘UNHCR_Training-Data_combined.xlsx’ saved [593473/593473]\n",
            "\n",
            "file downloaded!\n"
          ],
          "name": "stdout"
        }
      ]
    },
    {
      "cell_type": "code",
      "metadata": {
        "colab": {
          "base_uri": "https://localhost:8080/"
        },
        "id": "xVWh7XZrOG5R",
        "outputId": "50148dd9-b429-4332-a47d-227d8a21586c"
      },
      "source": [
        "filename = 'UNHCR_Training-Data_combined.xlsx'\n",
        "\n",
        "data_tweets = pd.read_excel(filename, sheet_name='Sentiment')\n",
        "\n",
        "print(data_tweets.shape)\n"
      ],
      "execution_count": 3,
      "outputs": [
        {
          "output_type": "stream",
          "text": [
            "(2357, 6)\n"
          ],
          "name": "stdout"
        }
      ]
    },
    {
      "cell_type": "markdown",
      "metadata": {
        "id": "j1_Tpie3tGp3"
      },
      "source": [
        "### 2.1. Download Dataset"
      ]
    },
    {
      "cell_type": "code",
      "metadata": {
        "id": "8ZFKyjrVXNht"
      },
      "source": [
        "# from google.colab import drive\n",
        "# drive.mount(\"/content/drive\")\n"
      ],
      "execution_count": 4,
      "outputs": []
    },
    {
      "cell_type": "code",
      "metadata": {
        "id": "fJJR-xdfXl3m"
      },
      "source": [
        "# !ls drive/MyDrive/NLP-BERT_classification/training-set/UNHCR_Training-Data_combined.xlsx"
      ],
      "execution_count": 5,
      "outputs": []
    },
    {
      "cell_type": "code",
      "metadata": {
        "id": "jYsfcyoZQQWa"
      },
      "source": [
        "#Model name: Sentiment or Attitude\n",
        "\n",
        "model_name = 'Attitude'\n",
        "\n",
        "# class labels for Attitude..\n",
        "# class_lables = ['action-based','sharing','liking','unrelated','helpless','disliking']\n",
        "# revised class varaible\n",
        "class_lables = ['sharing','liking','unrelated','helpless','disliking']\n",
        "\n",
        "\n"
      ],
      "execution_count": 6,
      "outputs": []
    },
    {
      "cell_type": "code",
      "metadata": {
        "colab": {
          "base_uri": "https://localhost:8080/",
          "height": 442
        },
        "id": "RGoXk2J2OVZQ",
        "outputId": "32247f9d-c456-41b4-c8d2-c4f414afb2c8"
      },
      "source": [
        "filename = 'UNHCR_Training-Data_combined.xlsx'\n",
        "\n",
        "data_tweets = pd.read_excel(filename, sheet_name=model_name)\n",
        "\n",
        "print(data_tweets.shape)\n",
        "\n",
        "data_tweets.head(100)\n"
      ],
      "execution_count": 7,
      "outputs": [
        {
          "output_type": "stream",
          "text": [
            "(2357, 6)\n"
          ],
          "name": "stdout"
        },
        {
          "output_type": "execute_result",
          "data": {
            "text/html": [
              "<div>\n",
              "<style scoped>\n",
              "    .dataframe tbody tr th:only-of-type {\n",
              "        vertical-align: middle;\n",
              "    }\n",
              "\n",
              "    .dataframe tbody tr th {\n",
              "        vertical-align: top;\n",
              "    }\n",
              "\n",
              "    .dataframe thead th {\n",
              "        text-align: right;\n",
              "    }\n",
              "</style>\n",
              "<table border=\"1\" class=\"dataframe\">\n",
              "  <thead>\n",
              "    <tr style=\"text-align: right;\">\n",
              "      <th></th>\n",
              "      <th>No</th>\n",
              "      <th>Tweet</th>\n",
              "      <th>Sentiment</th>\n",
              "      <th>Intensity</th>\n",
              "      <th>Attitude</th>\n",
              "      <th>Link</th>\n",
              "    </tr>\n",
              "  </thead>\n",
              "  <tbody>\n",
              "    <tr>\n",
              "      <th>0</th>\n",
              "      <td>1</td>\n",
              "      <td>\"As a refugee, your psychology is always a con...</td>\n",
              "      <td>positive</td>\n",
              "      <td>medium</td>\n",
              "      <td>action-based</td>\n",
              "      <td>http://twitter.com/MHPSSCollabora1/statuses/11...</td>\n",
              "    </tr>\n",
              "    <tr>\n",
              "      <th>1</th>\n",
              "      <td>2</td>\n",
              "      <td>\"More people have been forced to flee and fewe...</td>\n",
              "      <td>neutral</td>\n",
              "      <td>medium</td>\n",
              "      <td>sharing</td>\n",
              "      <td>http://twitter.com/MonashScholars/statuses/114...</td>\n",
              "    </tr>\n",
              "    <tr>\n",
              "      <th>2</th>\n",
              "      <td>3</td>\n",
              "      <td>\"No one leaves home unless home is the mouth o...</td>\n",
              "      <td>positive</td>\n",
              "      <td>high</td>\n",
              "      <td>liking</td>\n",
              "      <td>http://twitter.com/IlkacaseDahir/statuses/1181...</td>\n",
              "    </tr>\n",
              "    <tr>\n",
              "      <th>3</th>\n",
              "      <td>4</td>\n",
              "      <td>\"Without continued support from the int'l comm...</td>\n",
              "      <td>neutral</td>\n",
              "      <td>medium</td>\n",
              "      <td>sharing</td>\n",
              "      <td>http://twitter.com/SaddamH57747037/statuses/11...</td>\n",
              "    </tr>\n",
              "    <tr>\n",
              "      <th>4</th>\n",
              "      <td>5</td>\n",
              "      <td>\"Women need to remake man-made [discriminatory...</td>\n",
              "      <td>positive</td>\n",
              "      <td>medium</td>\n",
              "      <td>sharing</td>\n",
              "      <td>http://twitter.com/EQL_Nationality/statuses/11...</td>\n",
              "    </tr>\n",
              "    <tr>\n",
              "      <th>...</th>\n",
              "      <td>...</td>\n",
              "      <td>...</td>\n",
              "      <td>...</td>\n",
              "      <td>...</td>\n",
              "      <td>...</td>\n",
              "      <td>...</td>\n",
              "    </tr>\n",
              "    <tr>\n",
              "      <th>95</th>\n",
              "      <td>96</td>\n",
              "      <td>@AdrianEdwrds @Refugees @RefugeesChief Very go...</td>\n",
              "      <td>positive</td>\n",
              "      <td>high</td>\n",
              "      <td>liking</td>\n",
              "      <td>http://twitter.com/GhimireyIndra/statuses/1181...</td>\n",
              "    </tr>\n",
              "    <tr>\n",
              "      <th>96</th>\n",
              "      <td>97</td>\n",
              "      <td>@afsahi_ramin @UNICEF @Refugees @UNHCRTurkey @...</td>\n",
              "      <td>negative</td>\n",
              "      <td>medium</td>\n",
              "      <td>helpless</td>\n",
              "      <td>http://twitter.com/freedomme18/statuses/110080...</td>\n",
              "    </tr>\n",
              "    <tr>\n",
              "      <th>97</th>\n",
              "      <td>98</td>\n",
              "      <td>@Ahmad1618A @OIT_AmerCentral @Refugees @UN @UN...</td>\n",
              "      <td>neutral</td>\n",
              "      <td>low</td>\n",
              "      <td>unrelated</td>\n",
              "      <td>http://twitter.com/MPT2019/statuses/1172601213...</td>\n",
              "    </tr>\n",
              "    <tr>\n",
              "      <th>98</th>\n",
              "      <td>99</td>\n",
              "      <td>@alangamlen @heindehaas @Refugees @UNmigration...</td>\n",
              "      <td>neutral</td>\n",
              "      <td>medium</td>\n",
              "      <td>disliking</td>\n",
              "      <td>http://twitter.com/IragiFalah/statuses/1172792...</td>\n",
              "    </tr>\n",
              "    <tr>\n",
              "      <th>99</th>\n",
              "      <td>100</td>\n",
              "      <td>@alangamlen @heindehaas @Refugees @UNmigration...</td>\n",
              "      <td>neutral</td>\n",
              "      <td>medium</td>\n",
              "      <td>disliking</td>\n",
              "      <td>http://twitter.com/2gEbx2ixnCoFdYa/statuses/11...</td>\n",
              "    </tr>\n",
              "  </tbody>\n",
              "</table>\n",
              "<p>100 rows × 6 columns</p>\n",
              "</div>"
            ],
            "text/plain": [
              "     No  ...                                               Link\n",
              "0     1  ...  http://twitter.com/MHPSSCollabora1/statuses/11...\n",
              "1     2  ...  http://twitter.com/MonashScholars/statuses/114...\n",
              "2     3  ...  http://twitter.com/IlkacaseDahir/statuses/1181...\n",
              "3     4  ...  http://twitter.com/SaddamH57747037/statuses/11...\n",
              "4     5  ...  http://twitter.com/EQL_Nationality/statuses/11...\n",
              "..  ...  ...                                                ...\n",
              "95   96  ...  http://twitter.com/GhimireyIndra/statuses/1181...\n",
              "96   97  ...  http://twitter.com/freedomme18/statuses/110080...\n",
              "97   98  ...  http://twitter.com/MPT2019/statuses/1172601213...\n",
              "98   99  ...  http://twitter.com/IragiFalah/statuses/1172792...\n",
              "99  100  ...  http://twitter.com/2gEbx2ixnCoFdYa/statuses/11...\n",
              "\n",
              "[100 rows x 6 columns]"
            ]
          },
          "metadata": {
            "tags": []
          },
          "execution_count": 7
        }
      ]
    },
    {
      "cell_type": "code",
      "metadata": {
        "id": "6t6P5Kb1RFa7"
      },
      "source": [
        "\n",
        "# filename = 'drive/MyDrive/NLP-BERT_classification/training-set/UNHCR_Training-Data_combined.xlsx'\n",
        "\n",
        "# # specifying link did not work somehow.. :(\n",
        "# # path = 'https://drive.google.com/file/d/1kdvuVI_mnUh3pvMvr9dHDj5b-VsoLjXM/view?usp=sharing'\n",
        "\n",
        "# # path = 'https://drive.google.com/file/d/1-FT-b0kE8Gp7alukqkJJVPVJqIxSax4H/view?usp=sharing'\n",
        "\n",
        "\n",
        "# from google.colab import files\n",
        "\n",
        "#  # Load data and set labels\n",
        "# data_tweets = pd.read_excel(filename, sheet_name=model_name, index_col=0)\n",
        "\n",
        "# print(data_tweets.shape)\n",
        "\n",
        "# data_tweets.head(100)\n"
      ],
      "execution_count": 8,
      "outputs": []
    },
    {
      "cell_type": "code",
      "metadata": {
        "colab": {
          "base_uri": "https://localhost:8080/",
          "height": 517
        },
        "id": "7OveSFvRye-N",
        "outputId": "c3cccef6-fcde-4cdd-9eab-b774e99a3d06"
      },
      "source": [
        "# removing rows pertianing to action-based label as it did not perform well\n",
        "# due to less amount of data.\n",
        "\n",
        "print(data_tweets.loc[data_tweets.Attitude == 'action-based'].index)\n",
        "\n",
        "data_tweets.drop(data_tweets.loc[data_tweets.Attitude == 'action-based'].index, axis=0, inplace=True)\n",
        "\n",
        "print('shape after removal:', data_tweets.shape)\n",
        "\n",
        "data_tweets.head(100)\n"
      ],
      "execution_count": 9,
      "outputs": [
        {
          "output_type": "stream",
          "text": [
            "Int64Index([   0,   42,   43,   46,   53,   74,   79,   91,  310,  315,\n",
            "            ...\n",
            "            2275, 2294, 2303, 2323, 2339, 2343, 2352, 2353, 2355, 2356],\n",
            "           dtype='int64', length=136)\n",
            "shape after removal: (2221, 6)\n"
          ],
          "name": "stdout"
        },
        {
          "output_type": "execute_result",
          "data": {
            "text/html": [
              "<div>\n",
              "<style scoped>\n",
              "    .dataframe tbody tr th:only-of-type {\n",
              "        vertical-align: middle;\n",
              "    }\n",
              "\n",
              "    .dataframe tbody tr th {\n",
              "        vertical-align: top;\n",
              "    }\n",
              "\n",
              "    .dataframe thead th {\n",
              "        text-align: right;\n",
              "    }\n",
              "</style>\n",
              "<table border=\"1\" class=\"dataframe\">\n",
              "  <thead>\n",
              "    <tr style=\"text-align: right;\">\n",
              "      <th></th>\n",
              "      <th>No</th>\n",
              "      <th>Tweet</th>\n",
              "      <th>Sentiment</th>\n",
              "      <th>Intensity</th>\n",
              "      <th>Attitude</th>\n",
              "      <th>Link</th>\n",
              "    </tr>\n",
              "  </thead>\n",
              "  <tbody>\n",
              "    <tr>\n",
              "      <th>1</th>\n",
              "      <td>2</td>\n",
              "      <td>\"More people have been forced to flee and fewe...</td>\n",
              "      <td>neutral</td>\n",
              "      <td>medium</td>\n",
              "      <td>sharing</td>\n",
              "      <td>http://twitter.com/MonashScholars/statuses/114...</td>\n",
              "    </tr>\n",
              "    <tr>\n",
              "      <th>2</th>\n",
              "      <td>3</td>\n",
              "      <td>\"No one leaves home unless home is the mouth o...</td>\n",
              "      <td>positive</td>\n",
              "      <td>high</td>\n",
              "      <td>liking</td>\n",
              "      <td>http://twitter.com/IlkacaseDahir/statuses/1181...</td>\n",
              "    </tr>\n",
              "    <tr>\n",
              "      <th>3</th>\n",
              "      <td>4</td>\n",
              "      <td>\"Without continued support from the int'l comm...</td>\n",
              "      <td>neutral</td>\n",
              "      <td>medium</td>\n",
              "      <td>sharing</td>\n",
              "      <td>http://twitter.com/SaddamH57747037/statuses/11...</td>\n",
              "    </tr>\n",
              "    <tr>\n",
              "      <th>4</th>\n",
              "      <td>5</td>\n",
              "      <td>\"Women need to remake man-made [discriminatory...</td>\n",
              "      <td>positive</td>\n",
              "      <td>medium</td>\n",
              "      <td>sharing</td>\n",
              "      <td>http://twitter.com/EQL_Nationality/statuses/11...</td>\n",
              "    </tr>\n",
              "    <tr>\n",
              "      <th>5</th>\n",
              "      <td>6</td>\n",
              "      <td>#AusVisaXB4IranianRefugeesTR Hello World . Ple...</td>\n",
              "      <td>neutral</td>\n",
              "      <td>low</td>\n",
              "      <td>unrelated</td>\n",
              "      <td>http://twitter.com/52mLili/statuses/1172752282...</td>\n",
              "    </tr>\n",
              "    <tr>\n",
              "      <th>...</th>\n",
              "      <td>...</td>\n",
              "      <td>...</td>\n",
              "      <td>...</td>\n",
              "      <td>...</td>\n",
              "      <td>...</td>\n",
              "      <td>...</td>\n",
              "    </tr>\n",
              "    <tr>\n",
              "      <th>103</th>\n",
              "      <td>104</td>\n",
              "      <td>@Alexandra0306 @_AfricanUnion @AfricanUnionUN ...</td>\n",
              "      <td>neutral</td>\n",
              "      <td>high</td>\n",
              "      <td>disliking</td>\n",
              "      <td>http://twitter.com/Galela15505225/statuses/117...</td>\n",
              "    </tr>\n",
              "    <tr>\n",
              "      <th>104</th>\n",
              "      <td>105</td>\n",
              "      <td>@ALIBASILALI1 @UN_Valovaya @AminaJMohammed @UN...</td>\n",
              "      <td>neutral</td>\n",
              "      <td>medium</td>\n",
              "      <td>disliking</td>\n",
              "      <td>http://twitter.com/kaygli_yurt/statuses/118128...</td>\n",
              "    </tr>\n",
              "    <tr>\n",
              "      <th>105</th>\n",
              "      <td>106</td>\n",
              "      <td>@Alyssa_Milano They’re hiding crime, committed...</td>\n",
              "      <td>neutral</td>\n",
              "      <td>low</td>\n",
              "      <td>unrelated</td>\n",
              "      <td>http://twitter.com/truthdiviner/statuses/11451...</td>\n",
              "    </tr>\n",
              "    <tr>\n",
              "      <th>106</th>\n",
              "      <td>107</td>\n",
              "      <td>@AMASADirectAid Speaker Dr Kaka -even if you'r...</td>\n",
              "      <td>neutral</td>\n",
              "      <td>medium</td>\n",
              "      <td>sharing</td>\n",
              "      <td>http://twitter.com/ChoonaraShakira/statuses/11...</td>\n",
              "    </tr>\n",
              "    <tr>\n",
              "      <th>107</th>\n",
              "      <td>108</td>\n",
              "      <td>@AMB_Affey @Refugees @denmarkdotdk @worldbankd...</td>\n",
              "      <td>neutral</td>\n",
              "      <td>medium</td>\n",
              "      <td>disliking</td>\n",
              "      <td>http://twitter.com/migrationke/statuses/118077...</td>\n",
              "    </tr>\n",
              "  </tbody>\n",
              "</table>\n",
              "<p>100 rows × 6 columns</p>\n",
              "</div>"
            ],
            "text/plain": [
              "      No  ...                                               Link\n",
              "1      2  ...  http://twitter.com/MonashScholars/statuses/114...\n",
              "2      3  ...  http://twitter.com/IlkacaseDahir/statuses/1181...\n",
              "3      4  ...  http://twitter.com/SaddamH57747037/statuses/11...\n",
              "4      5  ...  http://twitter.com/EQL_Nationality/statuses/11...\n",
              "5      6  ...  http://twitter.com/52mLili/statuses/1172752282...\n",
              "..   ...  ...                                                ...\n",
              "103  104  ...  http://twitter.com/Galela15505225/statuses/117...\n",
              "104  105  ...  http://twitter.com/kaygli_yurt/statuses/118128...\n",
              "105  106  ...  http://twitter.com/truthdiviner/statuses/11451...\n",
              "106  107  ...  http://twitter.com/ChoonaraShakira/statuses/11...\n",
              "107  108  ...  http://twitter.com/migrationke/statuses/118077...\n",
              "\n",
              "[100 rows x 6 columns]"
            ]
          },
          "metadata": {
            "tags": []
          },
          "execution_count": 9
        }
      ]
    },
    {
      "cell_type": "code",
      "metadata": {
        "colab": {
          "base_uri": "https://localhost:8080/",
          "height": 574
        },
        "id": "llrkkA1q-j_I",
        "outputId": "0a80aa16-b769-4ea0-a5d7-5de267e2db63"
      },
      "source": [
        "# create a new column for labels:0,1,2\n",
        "data_tweets['label'] = 0\n",
        "\n",
        "# update the dataset with label values for class_labels..\n",
        "for index in range(len(class_lables)):\n",
        "\n",
        "  data_tweets.loc[data_tweets[model_name] == class_lables[index], 'label'] = index\n",
        "\n",
        "# data_tweets.loc[data_tweets.Sentiment == 'neutral', 'label'] = 1\n",
        "\n",
        "# data_tweets.loc[data_tweets.Sentiment == 'negative', 'label'] = 0\n",
        "\n",
        "print('group by label: \\n',data_tweets.groupby('label').count())\n",
        "\n",
        "data_tweets.head(100)"
      ],
      "execution_count": 10,
      "outputs": [
        {
          "output_type": "stream",
          "text": [
            "group by label: \n",
            "         No  Tweet  Sentiment  Intensity  Attitude  Link\n",
            "label                                                  \n",
            "0      474    474        474        474       474   474\n",
            "1      373    373        373        373       373   373\n",
            "2      420    420        420        420       420   420\n",
            "3      601    601        601        601       601   601\n",
            "4      353    353        353        353       353   353\n"
          ],
          "name": "stdout"
        },
        {
          "output_type": "execute_result",
          "data": {
            "text/html": [
              "<div>\n",
              "<style scoped>\n",
              "    .dataframe tbody tr th:only-of-type {\n",
              "        vertical-align: middle;\n",
              "    }\n",
              "\n",
              "    .dataframe tbody tr th {\n",
              "        vertical-align: top;\n",
              "    }\n",
              "\n",
              "    .dataframe thead th {\n",
              "        text-align: right;\n",
              "    }\n",
              "</style>\n",
              "<table border=\"1\" class=\"dataframe\">\n",
              "  <thead>\n",
              "    <tr style=\"text-align: right;\">\n",
              "      <th></th>\n",
              "      <th>No</th>\n",
              "      <th>Tweet</th>\n",
              "      <th>Sentiment</th>\n",
              "      <th>Intensity</th>\n",
              "      <th>Attitude</th>\n",
              "      <th>Link</th>\n",
              "      <th>label</th>\n",
              "    </tr>\n",
              "  </thead>\n",
              "  <tbody>\n",
              "    <tr>\n",
              "      <th>1</th>\n",
              "      <td>2</td>\n",
              "      <td>\"More people have been forced to flee and fewe...</td>\n",
              "      <td>neutral</td>\n",
              "      <td>medium</td>\n",
              "      <td>sharing</td>\n",
              "      <td>http://twitter.com/MonashScholars/statuses/114...</td>\n",
              "      <td>0</td>\n",
              "    </tr>\n",
              "    <tr>\n",
              "      <th>2</th>\n",
              "      <td>3</td>\n",
              "      <td>\"No one leaves home unless home is the mouth o...</td>\n",
              "      <td>positive</td>\n",
              "      <td>high</td>\n",
              "      <td>liking</td>\n",
              "      <td>http://twitter.com/IlkacaseDahir/statuses/1181...</td>\n",
              "      <td>1</td>\n",
              "    </tr>\n",
              "    <tr>\n",
              "      <th>3</th>\n",
              "      <td>4</td>\n",
              "      <td>\"Without continued support from the int'l comm...</td>\n",
              "      <td>neutral</td>\n",
              "      <td>medium</td>\n",
              "      <td>sharing</td>\n",
              "      <td>http://twitter.com/SaddamH57747037/statuses/11...</td>\n",
              "      <td>0</td>\n",
              "    </tr>\n",
              "    <tr>\n",
              "      <th>4</th>\n",
              "      <td>5</td>\n",
              "      <td>\"Women need to remake man-made [discriminatory...</td>\n",
              "      <td>positive</td>\n",
              "      <td>medium</td>\n",
              "      <td>sharing</td>\n",
              "      <td>http://twitter.com/EQL_Nationality/statuses/11...</td>\n",
              "      <td>0</td>\n",
              "    </tr>\n",
              "    <tr>\n",
              "      <th>5</th>\n",
              "      <td>6</td>\n",
              "      <td>#AusVisaXB4IranianRefugeesTR Hello World . Ple...</td>\n",
              "      <td>neutral</td>\n",
              "      <td>low</td>\n",
              "      <td>unrelated</td>\n",
              "      <td>http://twitter.com/52mLili/statuses/1172752282...</td>\n",
              "      <td>2</td>\n",
              "    </tr>\n",
              "    <tr>\n",
              "      <th>...</th>\n",
              "      <td>...</td>\n",
              "      <td>...</td>\n",
              "      <td>...</td>\n",
              "      <td>...</td>\n",
              "      <td>...</td>\n",
              "      <td>...</td>\n",
              "      <td>...</td>\n",
              "    </tr>\n",
              "    <tr>\n",
              "      <th>103</th>\n",
              "      <td>104</td>\n",
              "      <td>@Alexandra0306 @_AfricanUnion @AfricanUnionUN ...</td>\n",
              "      <td>neutral</td>\n",
              "      <td>high</td>\n",
              "      <td>disliking</td>\n",
              "      <td>http://twitter.com/Galela15505225/statuses/117...</td>\n",
              "      <td>4</td>\n",
              "    </tr>\n",
              "    <tr>\n",
              "      <th>104</th>\n",
              "      <td>105</td>\n",
              "      <td>@ALIBASILALI1 @UN_Valovaya @AminaJMohammed @UN...</td>\n",
              "      <td>neutral</td>\n",
              "      <td>medium</td>\n",
              "      <td>disliking</td>\n",
              "      <td>http://twitter.com/kaygli_yurt/statuses/118128...</td>\n",
              "      <td>4</td>\n",
              "    </tr>\n",
              "    <tr>\n",
              "      <th>105</th>\n",
              "      <td>106</td>\n",
              "      <td>@Alyssa_Milano They’re hiding crime, committed...</td>\n",
              "      <td>neutral</td>\n",
              "      <td>low</td>\n",
              "      <td>unrelated</td>\n",
              "      <td>http://twitter.com/truthdiviner/statuses/11451...</td>\n",
              "      <td>2</td>\n",
              "    </tr>\n",
              "    <tr>\n",
              "      <th>106</th>\n",
              "      <td>107</td>\n",
              "      <td>@AMASADirectAid Speaker Dr Kaka -even if you'r...</td>\n",
              "      <td>neutral</td>\n",
              "      <td>medium</td>\n",
              "      <td>sharing</td>\n",
              "      <td>http://twitter.com/ChoonaraShakira/statuses/11...</td>\n",
              "      <td>0</td>\n",
              "    </tr>\n",
              "    <tr>\n",
              "      <th>107</th>\n",
              "      <td>108</td>\n",
              "      <td>@AMB_Affey @Refugees @denmarkdotdk @worldbankd...</td>\n",
              "      <td>neutral</td>\n",
              "      <td>medium</td>\n",
              "      <td>disliking</td>\n",
              "      <td>http://twitter.com/migrationke/statuses/118077...</td>\n",
              "      <td>4</td>\n",
              "    </tr>\n",
              "  </tbody>\n",
              "</table>\n",
              "<p>100 rows × 7 columns</p>\n",
              "</div>"
            ],
            "text/plain": [
              "      No  ... label\n",
              "1      2  ...     0\n",
              "2      3  ...     1\n",
              "3      4  ...     0\n",
              "4      5  ...     0\n",
              "5      6  ...     2\n",
              "..   ...  ...   ...\n",
              "103  104  ...     4\n",
              "104  105  ...     4\n",
              "105  106  ...     2\n",
              "106  107  ...     0\n",
              "107  108  ...     4\n",
              "\n",
              "[100 rows x 7 columns]"
            ]
          },
          "metadata": {
            "tags": []
          },
          "execution_count": 10
        }
      ]
    },
    {
      "cell_type": "code",
      "metadata": {
        "id": "_tOJXeR9sx57"
      },
      "source": [
        "# # Download data\n",
        "# import requests\n",
        "# request = requests.get(\"https://drive.google.com/uc?export=download&id=1wHt8PsMLsfX5yNSqrt2fSTcb8LEiclcf\")\n",
        "# with open(\"data.zip\", \"wb\") as file:\n",
        "#     file.write(request.content)\n",
        "\n",
        "# # Unzip data\n",
        "# import zipfile\n",
        "# with zipfile.ZipFile('data.zip') as zip:\n",
        "#     zip.extractall('data')"
      ],
      "execution_count": 11,
      "outputs": []
    },
    {
      "cell_type": "markdown",
      "metadata": {
        "id": "NVkXcFzrtREn"
      },
      "source": [
        "### 2.2. Load Train Data\n",
        "The train data has 2 files, each containing 1700 complaining/non-complaining tweets. Every tweets in the data contains at least a hashtag of an airline.\n",
        "\n",
        "We will load the train data and label it. Because we use only the text data to classify, we will drop unimportant columns and only keep `id`, `tweet` and `label` columns."
      ]
    },
    {
      "cell_type": "code",
      "metadata": {
        "id": "XwjmiM2ktA7d"
      },
      "source": [
        "#  from google.colab import files\n",
        "#  # Load data and set labels\n",
        "# data_complaint = pd.read_csv('data/complaint1700.csv')\n",
        "# data_complaint['label'] = 0\n",
        "# data_non_complaint = pd.read_csv('data/noncomplaint1700.csv')\n",
        "# data_non_complaint['label'] = 1\n",
        "\n",
        "# # Concatenate complaining and non-complaining data\n",
        "# data = pd.concat([data_complaint, data_non_complaint], axis=0).reset_index(drop=True)\n",
        "\n",
        "# # Drop 'airline' column\n",
        "# data.drop(['airline'], inplace=True, axis=1)\n",
        "\n",
        "# # Display 5 random samples\n",
        "# data.sample(5)\n",
        "\n",
        "# data.to_csv('compliant-data.csv')\n",
        "# # files.download('compliant-data.csv')\n",
        "\n",
        "# data.head()\n",
        "# print(data.shape)"
      ],
      "execution_count": 12,
      "outputs": []
    },
    {
      "cell_type": "markdown",
      "metadata": {
        "id": "Cp-vfxKZvl6M"
      },
      "source": [
        "We will randomly split the entire training data into two sets: a train set with 90% of the data and a validation set with 10% of the data. We will perform hyperparameter tuning using cross-validation on the train set and use the validation set to compare models."
      ]
    },
    {
      "cell_type": "code",
      "metadata": {
        "id": "X4HKAFTbvMwI",
        "colab": {
          "base_uri": "https://localhost:8080/"
        },
        "outputId": "63706d18-130d-4d34-aa5c-aef54a6d73d3"
      },
      "source": [
        "from sklearn.model_selection import train_test_split\n",
        "\n",
        "# X = data.tweet.values\n",
        "# y = data.label.values\n",
        "\n",
        "# X_train, X_val, y_train, y_val =\\\n",
        "#     train_test_split(X, y, test_size=0.1, random_state=2020)\n",
        "\n",
        "\n",
        "X = data_tweets.Tweet.values\n",
        "y = data_tweets.label.values\n",
        "\n",
        "X_train, X_val, y_train, y_val =\\\n",
        "    train_test_split(X, y, test_size=0.2, random_state=2020)\n",
        "\n",
        "print(X_train.shape)\n",
        "\n",
        "pd.value_counts(y_val)"
      ],
      "execution_count": 13,
      "outputs": [
        {
          "output_type": "stream",
          "text": [
            "(1776,)\n"
          ],
          "name": "stdout"
        },
        {
          "output_type": "execute_result",
          "data": {
            "text/plain": [
              "3    114\n",
              "2     90\n",
              "1     85\n",
              "0     81\n",
              "4     75\n",
              "dtype: int64"
            ]
          },
          "metadata": {
            "tags": []
          },
          "execution_count": 13
        }
      ]
    },
    {
      "cell_type": "code",
      "metadata": {
        "colab": {
          "base_uri": "https://localhost:8080/"
        },
        "id": "1o0i8XtOnLbn",
        "outputId": "23cbeeb9-42cf-4304-ea47-c1432361a45a"
      },
      "source": [
        "print(y_train)"
      ],
      "execution_count": 14,
      "outputs": [
        {
          "output_type": "stream",
          "text": [
            "[3 4 0 ... 0 3 3]\n"
          ],
          "name": "stdout"
        }
      ]
    },
    {
      "cell_type": "markdown",
      "metadata": {
        "id": "pErITNxtyNpe"
      },
      "source": [
        "### 2.3. Load Test Data\n",
        "The test data contains 4555 examples with no label. About 300 examples are non-complaining tweets. Our task is to identify their `id` and examine manually whether our results are correct."
      ]
    },
    {
      "cell_type": "code",
      "metadata": {
        "id": "_JWXnfBlwyWC"
      },
      "source": [
        "# # Load test data\n",
        "# test_data = pd.read_csv('data/test_data.csv')\n",
        "\n",
        "# # Keep important columns\n",
        "# test_data = test_data[['id', 'tweet']]\n",
        "\n",
        "# # Display 5 samples from the test data\n",
        "# test_data.sample(5)"
      ],
      "execution_count": 15,
      "outputs": []
    },
    {
      "cell_type": "markdown",
      "metadata": {
        "id": "X79dYY3sxDCi"
      },
      "source": [
        "## 3. Set up GPU for training"
      ]
    },
    {
      "cell_type": "markdown",
      "metadata": {
        "id": "Zi1CoEOL1puh"
      },
      "source": [
        "Google Colab offers free GPUs and TPUs. Since we'll be training a large neural network it's best to utilize these features.\n",
        "\n",
        "A GPU can be added by going to the menu and selecting:\n",
        "\n",
        "`Runtime -> Change runtime type -> Hardware accelerator: GPU`\n",
        "\n",
        "Then we need to run the following cell to specify the GPU as the device."
      ]
    },
    {
      "cell_type": "code",
      "metadata": {
        "id": "K7hxtI4l0SUJ",
        "colab": {
          "base_uri": "https://localhost:8080/"
        },
        "outputId": "2775e38f-d0d9-42e2-fa2c-f7265499b399"
      },
      "source": [
        "import torch\n",
        "\n",
        "if torch.cuda.is_available():       \n",
        "    device = torch.device(\"cuda\")\n",
        "    print(f'There are {torch.cuda.device_count()} GPU(s) available.')\n",
        "    print('Device name:', torch.cuda.get_device_name(0))\n",
        "\n",
        "else:\n",
        "    print('No GPU available, using the CPU instead.')\n",
        "    device = torch.device(\"cpu\")"
      ],
      "execution_count": 16,
      "outputs": [
        {
          "output_type": "stream",
          "text": [
            "There are 1 GPU(s) available.\n",
            "Device name: Tesla T4\n"
          ],
          "name": "stdout"
        }
      ]
    },
    {
      "cell_type": "markdown",
      "metadata": {
        "id": "9j6EbXLs12Kz"
      },
      "source": [
        "# C - Baseline: TF-IDF + Naive Bayes Classifier"
      ]
    },
    {
      "cell_type": "markdown",
      "metadata": {
        "id": "3eWj6qFpA3TE"
      },
      "source": [
        "In this baseline approach, first we will use TF-IDF to vectorize our text data. Then we will use the Naive Bayes model as our classifier.\n",
        "\n",
        "Why Naive Bayse? I have experiemented different machine learning algorithms including Random Forest, Support Vectors Machine, XGBoost and observed that Naive Bayes yields the best performance. In [Scikit-learn's guide](https://scikit-learn.org/stable/tutorial/machine_learning_map/index.html) to choose the right estimator, it is also suggested that Naive Bayes should be used for text data. I also tried using SVD to reduce dimensionality; however, it did not yield a better performance."
      ]
    },
    {
      "cell_type": "markdown",
      "metadata": {
        "id": "ZeljUmsqAUpt"
      },
      "source": [
        "## 1. Data Preparation"
      ]
    },
    {
      "cell_type": "markdown",
      "metadata": {
        "id": "vU754-QPAwBt"
      },
      "source": [
        "### 1.1. Preprocessing"
      ]
    },
    {
      "cell_type": "markdown",
      "metadata": {
        "id": "4_OzXFcfCBOa"
      },
      "source": [
        "In the bag-of-words model, a text is represented as the bag of its words, disregarding grammar and word order. Therefore, we will want to remove stop words, punctuations and characters that don't contribute much to the sentence's meaning."
      ]
    },
    {
      "cell_type": "code",
      "metadata": {
        "id": "98rwWTSw_dEI",
        "colab": {
          "base_uri": "https://localhost:8080/"
        },
        "outputId": "422de208-0cfe-447a-abd0-39cf50e575f5"
      },
      "source": [
        "import nltk\n",
        "# Uncomment to download \"stopwords\"\n",
        "nltk.download(\"stopwords\")\n",
        "from nltk.corpus import stopwords\n",
        "\n",
        "def text_preprocessing(s):\n",
        "    \"\"\"\n",
        "    - Lowercase the sentence\n",
        "    - Change \"'t\" to \"not\"\n",
        "    - Remove \"@name\"\n",
        "    - Isolate and remove punctuations except \"?\"\n",
        "    - Remove other special characters\n",
        "    - Remove stop words except \"not\" and \"can\"\n",
        "    - Remove trailing whitespace\n",
        "    \"\"\"\n",
        "    s = s.lower()\n",
        "    # Change 't to 'not'\n",
        "    s = re.sub(r\"\\'t\", \" not\", s)\n",
        "    # Remove @name\n",
        "    s = re.sub(r'(@.*?)[\\s]', ' ', s)\n",
        "    # Isolate and remove punctuations except '?'\n",
        "    s = re.sub(r'([\\'\\\"\\.\\(\\)\\!\\?\\\\\\/\\,])', r' \\1 ', s)\n",
        "    s = re.sub(r'[^\\w\\s\\?]', ' ', s)\n",
        "    # Remove some special characters\n",
        "    s = re.sub(r'([\\;\\:\\|•«\\n])', ' ', s)\n",
        "    # Remove stopwords except 'not' and 'can'\n",
        "    s = \" \".join([word for word in s.split()\n",
        "                  if word not in stopwords.words('english')\n",
        "                  or word in ['not', 'can']])\n",
        "    # Remove trailing whitespace\n",
        "    s = re.sub(r'\\s+', ' ', s).strip()\n",
        "    \n",
        "    return s"
      ],
      "execution_count": 17,
      "outputs": [
        {
          "output_type": "stream",
          "text": [
            "[nltk_data] Downloading package stopwords to /root/nltk_data...\n",
            "[nltk_data]   Unzipping corpora/stopwords.zip.\n"
          ],
          "name": "stdout"
        }
      ]
    },
    {
      "cell_type": "markdown",
      "metadata": {
        "id": "w8jpfxygCvww"
      },
      "source": [
        "### 1.2. TF-IDF Vectorizer"
      ]
    },
    {
      "cell_type": "markdown",
      "metadata": {
        "id": "vbD689AMC-aB"
      },
      "source": [
        "In information retrieval, **TF-IDF**, short for **term frequency–inverse document frequency**, is a numerical statistic that is intended to reflect how important a word is to a document in a collection or corpus. We will use TF-IDF to vectorize our text data before feeding them to machine learning algorithms."
      ]
    },
    {
      "cell_type": "code",
      "metadata": {
        "id": "MOQ3X7hPDYhn",
        "colab": {
          "base_uri": "https://localhost:8080/"
        },
        "outputId": "1d384cc0-a38c-439b-b647-4598bdbe5f5a"
      },
      "source": [
        "%%time\n",
        "from sklearn.feature_extraction.text import TfidfVectorizer\n",
        "\n",
        "# Preprocess text\n",
        "X_train_preprocessed = np.array([text_preprocessing(text) for text in X_train])\n",
        "X_val_preprocessed = np.array([text_preprocessing(text) for text in X_val])\n",
        "\n",
        "# Calculate TF-IDF\n",
        "tf_idf = TfidfVectorizer(ngram_range=(1, 3),\n",
        "                         binary=True,\n",
        "                         smooth_idf=False)\n",
        "X_train_tfidf = tf_idf.fit_transform(X_train_preprocessed)\n",
        "X_val_tfidf = tf_idf.transform(X_val_preprocessed)"
      ],
      "execution_count": 18,
      "outputs": [
        {
          "output_type": "stream",
          "text": [
            "CPU times: user 6.44 s, sys: 669 ms, total: 7.11 s\n",
            "Wall time: 7.11 s\n"
          ],
          "name": "stdout"
        }
      ]
    },
    {
      "cell_type": "markdown",
      "metadata": {
        "id": "arsEHOKzFxdv"
      },
      "source": [
        "## 2. Train Naive Bayes Classifier"
      ]
    },
    {
      "cell_type": "markdown",
      "metadata": {
        "id": "63HQtpzOInq-"
      },
      "source": [
        "### 2.1. Hyperparameter Tuning"
      ]
    },
    {
      "cell_type": "markdown",
      "metadata": {
        "id": "8z5E0Fa6GUyd"
      },
      "source": [
        "We will use cross-validation and AUC score to tune hyperparameters of our model. The function `get_auc_CV` will return the average AUC score from cross-validation."
      ]
    },
    {
      "cell_type": "code",
      "metadata": {
        "id": "ueXJsrhNGqlS"
      },
      "source": [
        "from sklearn.model_selection import StratifiedKFold, cross_val_score\n",
        "\n",
        "def get_auc_CV(model):\n",
        "    \"\"\"\n",
        "    Return the average AUC score from cross-validation.\n",
        "    \"\"\"\n",
        "    # Set KFold to shuffle data before the split\n",
        "    kf = StratifiedKFold(5, shuffle=True, random_state=1)\n",
        "\n",
        "    # Get AUC scores\n",
        "    auc = cross_val_score(\n",
        "        model, X_train_tfidf, y_train,  cv=None) #scoring=\"roc_auc\",\n",
        "\n",
        "    return auc.mean()"
      ],
      "execution_count": 19,
      "outputs": []
    },
    {
      "cell_type": "markdown",
      "metadata": {
        "id": "53MgflYPHNxh"
      },
      "source": [
        "The `MultinominalNB` class only have one hypterparameter - **alpha**. The code below will help us find the alpha value that gives us the highest CV AUC score."
      ]
    },
    {
      "cell_type": "code",
      "metadata": {
        "id": "zKatLhhJGzn0",
        "colab": {
          "base_uri": "https://localhost:8080/",
          "height": 314
        },
        "outputId": "741ae10c-7aac-4563-ccb3-466688fe10ff"
      },
      "source": [
        "from sklearn.naive_bayes import MultinomialNB\n",
        "\n",
        "from sklearn import preprocessing\n",
        "from sklearn.preprocessing import LabelEncoder\n",
        "\n",
        "label_encoder = LabelEncoder()\n",
        "#y_train = label_encoder.fit_transform(y_train)\n",
        "#y_train = preprocessing.label_binarize(y_train, classes=[0, 1, 2])\n",
        "\n",
        "res = pd.Series([get_auc_CV(MultinomialNB(i))\n",
        "                 for i in np.arange(1, 10, 0.1)],\n",
        "                index=np.arange(1, 10, 0.1))\n",
        "\n",
        "best_alpha = np.round(res.idxmax(), 2)\n",
        "print('Best alpha: ', best_alpha)\n",
        "\n",
        "plt.plot(res)\n",
        "plt.title('AUC vs. Alpha')\n",
        "plt.xlabel('Alpha')\n",
        "plt.ylabel('AUC')\n",
        "plt.show()"
      ],
      "execution_count": 20,
      "outputs": [
        {
          "output_type": "stream",
          "text": [
            "Best alpha:  1.0\n"
          ],
          "name": "stdout"
        },
        {
          "output_type": "display_data",
          "data": {
            "image/png": "[encoded data removed]",
            "text/plain": [
              "<Figure size 432x288 with 1 Axes>"
            ]
          },
          "metadata": {
            "tags": [],
            "needs_background": "light"
          }
        }
      ]
    },
    {
      "cell_type": "markdown",
      "metadata": {
        "id": "JaATcy1nIeE9"
      },
      "source": [
        "### 2.2. Evaluation on Validation Set"
      ]
    },
    {
      "cell_type": "markdown",
      "metadata": {
        "id": "Ne-eoqM4Muna"
      },
      "source": [
        "To evaluate the performance of our model, we will calculate the accuracy rate and the AUC score of our model on the validation set."
      ]
    },
    {
      "cell_type": "code",
      "metadata": {
        "colab": {
          "base_uri": "https://localhost:8080/"
        },
        "id": "pdcfTugkm7r4",
        "outputId": "ede0f126-2e0d-4c44-eb25-5e3cded807ad"
      },
      "source": [
        "print(y_train)"
      ],
      "execution_count": 21,
      "outputs": [
        {
          "output_type": "stream",
          "text": [
            "[3 4 0 ... 0 3 3]\n"
          ],
          "name": "stdout"
        }
      ]
    },
    {
      "cell_type": "code",
      "metadata": {
        "id": "t8h-MxlfDp-r"
      },
      "source": [
        "import numpy as np\n",
        "\n",
        "\n",
        "def transform_prob_class_indices(probs):\n",
        "  \"\"\"\n",
        "  This function expects a two dimensional np array, containing each row probablities \n",
        "  summing upto 1. It tries to find rowwise max value and extracts its location/index vlaue, so that \n",
        "  it assigns that as the label.\n",
        "  \"\"\"\n",
        "\n",
        "  pred_labels = []\n",
        "\n",
        "  for row in probs:\n",
        "    pred_labels.append(np.where(row == np.amax(row))[0][0])\n",
        "  \n",
        "  return pred_labels\n",
        "  \n"
      ],
      "execution_count": 22,
      "outputs": []
    },
    {
      "cell_type": "code",
      "metadata": {
        "colab": {
          "base_uri": "https://localhost:8080/"
        },
        "id": "RRWeMr_mMucy",
        "outputId": "dab83fb6-f73c-4ecd-b9e2-66af7048ee3b"
      },
      "source": [
        "# sample test code for testing the transform_prob_class_indices function\n",
        "probs = np.array([[0.1,0.5,0.4],\n",
        "                  [0.33, 0.33,0.34],\n",
        "                  [0.35,0.32,0.33]])\n",
        "\n",
        "print(transform_prob_class_indices(probs))\n",
        "\n",
        "\n"
      ],
      "execution_count": 23,
      "outputs": [
        {
          "output_type": "stream",
          "text": [
            "[1, 2, 0]\n"
          ],
          "name": "stdout"
        }
      ]
    },
    {
      "cell_type": "code",
      "metadata": {
        "id": "qS2gb-9mJK2w"
      },
      "source": [
        "from sklearn.metrics import accuracy_score, roc_curve, auc\n",
        "from sklearn.metrics import classification_report\n",
        "\n",
        "def evaluate_roc(probs, y_true, class_lables=None):\n",
        "    \"\"\"\n",
        "    - Print AUC and accuracy on the test set\n",
        "    - Plot ROC\n",
        "    @params    probs (np.array): an array of predicted probabilities with shape (len(y_true), 2)\n",
        "    @params    y_true (np.array): an array of the true values with shape (len(y_true),)\n",
        "    \"\"\"\n",
        "    preds = probs[:, 1]\n",
        "    # fpr, tpr, threshold = roc_curve(y_true, preds, pos_label='your_label')\n",
        "    # roc_auc = auc(fpr, tpr)\n",
        "    # print(f'AUC: {roc_auc:.4f}')\n",
        "       \n",
        "    # Get accuracy over the test set\n",
        "    #y_pred = np.where(preds >= 0.5, 1, 0)\n",
        "    #y_pred = np.where(arr == np.amax(arr))[0][0]\n",
        "\n",
        "    y_pred = transform_prob_class_indices(probs)\n",
        "\n",
        "\n",
        "    accuracy = accuracy_score(y_true, y_pred)\n",
        "\n",
        "    print(f'Accuracy: {accuracy*100:.2f}%')\n",
        "\n",
        "    if class_lables is not None:\n",
        "      print(classification_report(y_true, y_pred, target_names=class_lables))\n",
        "    else:\n",
        "      print(classification_report(y_true, y_pred))\n",
        "\n",
        "\n",
        "    \n",
        "    # # Plot ROC AUC\n",
        "    # plt.title('Receiver Operating Characteristic')\n",
        "    # plt.plot(fpr, tpr, 'b', label = 'AUC = %0.2f' % roc_auc)\n",
        "    # plt.legend(loc = 'lower right')\n",
        "    # plt.plot([0, 1], [0, 1],'r--')\n",
        "    # plt.xlim([0, 1])\n",
        "    # plt.ylim([0, 1])\n",
        "    # plt.ylabel('True Positive Rate')\n",
        "    # plt.xlabel('False Positive Rate')\n",
        "    # plt.show()"
      ],
      "execution_count": 24,
      "outputs": []
    },
    {
      "cell_type": "markdown",
      "metadata": {
        "id": "xnCfezJSM-41"
      },
      "source": [
        "By combining TF-IDF and the Naive Bayes algorithm, we achieve the accuracy rate of **72.65%** on the validation set. This value is the baseline performance and will be used to evaluate the performance of our fine-tune BERT model. "
      ]
    },
    {
      "cell_type": "code",
      "metadata": {
        "id": "YwVGbLHLIwpl",
        "colab": {
          "base_uri": "https://localhost:8080/"
        },
        "outputId": "602415ae-de33-42ca-ed98-e1660d0075d2"
      },
      "source": [
        "# Compute predicted probabilities\n",
        "nb_model = MultinomialNB(alpha=1.0)\n",
        "nb_model.fit(X_train_tfidf, y_train)\n",
        "probs = nb_model.predict_proba(X_val_tfidf)\n",
        "\n",
        "\n",
        "# Evaluate the classifier\n",
        "evaluate_roc(probs, y_val, class_lables)"
      ],
      "execution_count": 25,
      "outputs": [
        {
          "output_type": "stream",
          "text": [
            "Accuracy: 52.81%\n",
            "              precision    recall  f1-score   support\n",
            "\n",
            "     sharing       0.46      0.75      0.57        81\n",
            "      liking       0.86      0.36      0.51        85\n",
            "   unrelated       1.00      0.21      0.35        90\n",
            "    helpless       0.46      0.96      0.62       114\n",
            "   disliking       0.70      0.19      0.29        75\n",
            "\n",
            "    accuracy                           0.53       445\n",
            "   macro avg       0.70      0.50      0.47       445\n",
            "weighted avg       0.69      0.53      0.48       445\n",
            "\n"
          ],
          "name": "stdout"
        }
      ]
    },
    {
      "cell_type": "markdown",
      "metadata": {
        "id": "lEPPYHa62JXF"
      },
      "source": [
        "# D - Fine-tuning BERT"
      ]
    },
    {
      "cell_type": "markdown",
      "metadata": {
        "id": "bYJRzWI73eBJ"
      },
      "source": [
        "## 1. Install the Hugging Face Library"
      ]
    },
    {
      "cell_type": "markdown",
      "metadata": {
        "id": "Yxv-EJ2j31Iv"
      },
      "source": [
        "The transformer library of Hugging Face contains PyTorch implementation of state-of-the-art NLP models including BERT (from Google), GPT (from OpenAI) ... and pre-trained model weights."
      ]
    },
    {
      "cell_type": "code",
      "metadata": {
        "id": "uFiv8WGl4p40",
        "colab": {
          "base_uri": "https://localhost:8080/"
        },
        "outputId": "20638d70-ce69-42f4-ea2b-6bac3fbb056b"
      },
      "source": [
        "!pip install transformers==2.8.0"
      ],
      "execution_count": 26,
      "outputs": [
        {
          "output_type": "stream",
          "text": [
            "Collecting transformers==2.8.0\n",
            "\u001b[?25l  Downloading https://files.pythonhosted.org/packages/a3/78/92cedda05552398352ed9784908b834ee32a0bd071a9b32de287327370b7/transformers-2.8.0-py3-none-any.whl (563kB)\n",
            "\r\u001b[K     |▋                               | 10kB 16.7MB/s eta 0:00:01\r\u001b[K     |█▏                              | 20kB 22.6MB/s eta 0:00:01\r\u001b[K     |█▊                              | 30kB 26.8MB/s eta 0:00:01\r\u001b[K     |██▎                             | 40kB 30.6MB/s eta 0:00:01\r\u001b[K     |███                             | 51kB 33.1MB/s eta 0:00:01\r\u001b[K     |███▌                            | 61kB 35.8MB/s eta 0:00:01\r\u001b[K     |████                            | 71kB 33.3MB/s eta 0:00:01\r\u001b[K     |████▋                           | 81kB 31.4MB/s eta 0:00:01\r\u001b[K     |█████▎                          | 92kB 29.9MB/s eta 0:00:01\r\u001b[K     |█████▉                          | 102kB 31.3MB/s eta 0:00:01\r\u001b[K     |██████▍                         | 112kB 31.3MB/s eta 0:00:01\r\u001b[K     |███████                         | 122kB 31.3MB/s eta 0:00:01\r\u001b[K     |███████▋                        | 133kB 31.3MB/s eta 0:00:01\r\u001b[K     |████████▏                       | 143kB 31.3MB/s eta 0:00:01\r\u001b[K     |████████▊                       | 153kB 31.3MB/s eta 0:00:01\r\u001b[K     |█████████▎                      | 163kB 31.3MB/s eta 0:00:01\r\u001b[K     |█████████▉                      | 174kB 31.3MB/s eta 0:00:01\r\u001b[K     |██████████▌                     | 184kB 31.3MB/s eta 0:00:01\r\u001b[K     |███████████                     | 194kB 31.3MB/s eta 0:00:01\r\u001b[K     |███████████▋                    | 204kB 31.3MB/s eta 0:00:01\r\u001b[K     |████████████▏                   | 215kB 31.3MB/s eta 0:00:01\r\u001b[K     |████████████▉                   | 225kB 31.3MB/s eta 0:00:01\r\u001b[K     |█████████████▍                  | 235kB 31.3MB/s eta 0:00:01\r\u001b[K     |██████████████                  | 245kB 31.3MB/s eta 0:00:01\r\u001b[K     |██████████████▌                 | 256kB 31.3MB/s eta 0:00:01\r\u001b[K     |███████████████▏                | 266kB 31.3MB/s eta 0:00:01\r\u001b[K     |███████████████▊                | 276kB 31.3MB/s eta 0:00:01\r\u001b[K     |████████████████▎               | 286kB 31.3MB/s eta 0:00:01\r\u001b[K     |████████████████▉               | 296kB 31.3MB/s eta 0:00:01\r\u001b[K     |█████████████████▍              | 307kB 31.3MB/s eta 0:00:01\r\u001b[K     |██████████████████              | 317kB 31.3MB/s eta 0:00:01\r\u001b[K     |██████████████████▋             | 327kB 31.3MB/s eta 0:00:01\r\u001b[K     |███████████████████▏            | 337kB 31.3MB/s eta 0:00:01\r\u001b[K     |███████████████████▊            | 348kB 31.3MB/s eta 0:00:01\r\u001b[K     |████████████████████▍           | 358kB 31.3MB/s eta 0:00:01\r\u001b[K     |█████████████████████           | 368kB 31.3MB/s eta 0:00:01\r\u001b[K     |█████████████████████▌          | 378kB 31.3MB/s eta 0:00:01\r\u001b[K     |██████████████████████          | 389kB 31.3MB/s eta 0:00:01\r\u001b[K     |██████████████████████▊         | 399kB 31.3MB/s eta 0:00:01\r\u001b[K     |███████████████████████▎        | 409kB 31.3MB/s eta 0:00:01\r\u001b[K     |███████████████████████▉        | 419kB 31.3MB/s eta 0:00:01\r\u001b[K     |████████████████████████▍       | 430kB 31.3MB/s eta 0:00:01\r\u001b[K     |█████████████████████████       | 440kB 31.3MB/s eta 0:00:01\r\u001b[K     |█████████████████████████▋      | 450kB 31.3MB/s eta 0:00:01\r\u001b[K     |██████████████████████████▏     | 460kB 31.3MB/s eta 0:00:01\r\u001b[K     |██████████████████████████▊     | 471kB 31.3MB/s eta 0:00:01\r\u001b[K     |███████████████████████████▎    | 481kB 31.3MB/s eta 0:00:01\r\u001b[K     |████████████████████████████    | 491kB 31.3MB/s eta 0:00:01\r\u001b[K     |████████████████████████████▌   | 501kB 31.3MB/s eta 0:00:01\r\u001b[K     |█████████████████████████████   | 512kB 31.3MB/s eta 0:00:01\r\u001b[K     |█████████████████████████████▋  | 522kB 31.3MB/s eta 0:00:01\r\u001b[K     |██████████████████████████████▎ | 532kB 31.3MB/s eta 0:00:01\r\u001b[K     |██████████████████████████████▉ | 542kB 31.3MB/s eta 0:00:01\r\u001b[K     |███████████████████████████████▍| 552kB 31.3MB/s eta 0:00:01\r\u001b[K     |████████████████████████████████| 563kB 31.3MB/s eta 0:00:01\r\u001b[K     |████████████████████████████████| 573kB 31.3MB/s \n",
            "\u001b[?25hRequirement already satisfied: regex!=2019.12.17 in /usr/local/lib/python3.7/dist-packages (from transformers==2.8.0) (2019.12.20)\n",
            "Requirement already satisfied: numpy in /usr/local/lib/python3.7/dist-packages (from transformers==2.8.0) (1.19.5)\n",
            "Requirement already satisfied: requests in /usr/local/lib/python3.7/dist-packages (from transformers==2.8.0) (2.23.0)\n",
            "Collecting boto3\n",
            "\u001b[?25l  Downloading https://files.pythonhosted.org/packages/7a/65/c5fa632ca1c243d0f757c09cc4656f361dc1a9555f0b6d442e374f7ca8f6/boto3-1.17.109-py2.py3-none-any.whl (131kB)\n",
            "\u001b[K     |████████████████████████████████| 133kB 41.2MB/s \n",
            "\u001b[?25hCollecting sacremoses\n",
            "\u001b[?25l  Downloading https://files.pythonhosted.org/packages/75/ee/67241dc87f266093c533a2d4d3d69438e57d7a90abb216fa076e7d475d4a/sacremoses-0.0.45-py3-none-any.whl (895kB)\n",
            "\u001b[K     |████████████████████████████████| 901kB 47.7MB/s \n",
            "\u001b[?25hCollecting tokenizers==0.5.2\n",
            "\u001b[?25l  Downloading https://files.pythonhosted.org/packages/d6/e3/5e49e9a83fb605aaa34a1c1173e607302fecae529428c28696fb18f1c2c9/tokenizers-0.5.2-cp37-cp37m-manylinux1_x86_64.whl (5.6MB)\n",
            "\u001b[K     |████████████████████████████████| 5.6MB 48.3MB/s \n",
            "\u001b[?25hRequirement already satisfied: tqdm>=4.27 in /usr/local/lib/python3.7/dist-packages (from transformers==2.8.0) (4.41.1)\n",
            "Collecting sentencepiece\n",
            "\u001b[?25l  Downloading https://files.pythonhosted.org/packages/ac/aa/1437691b0c7c83086ebb79ce2da16e00bef024f24fec2a5161c35476f499/sentencepiece-0.1.96-cp37-cp37m-manylinux_2_17_x86_64.manylinux2014_x86_64.whl (1.2MB)\n",
            "\u001b[K     |████████████████████████████████| 1.2MB 36.4MB/s \n",
            "\u001b[?25hRequirement already satisfied: filelock in /usr/local/lib/python3.7/dist-packages (from transformers==2.8.0) (3.0.12)\n",
            "Requirement already satisfied: certifi>=2017.4.17 in /usr/local/lib/python3.7/dist-packages (from requests->transformers==2.8.0) (2021.5.30)\n",
            "Requirement already satisfied: idna<3,>=2.5 in /usr/local/lib/python3.7/dist-packages (from requests->transformers==2.8.0) (2.10)\n",
            "Requirement already satisfied: urllib3!=1.25.0,!=1.25.1,<1.26,>=1.21.1 in /usr/local/lib/python3.7/dist-packages (from requests->transformers==2.8.0) (1.24.3)\n",
            "Requirement already satisfied: chardet<4,>=3.0.2 in /usr/local/lib/python3.7/dist-packages (from requests->transformers==2.8.0) (3.0.4)\n",
            "Collecting s3transfer<0.5.0,>=0.4.0\n",
            "\u001b[?25l  Downloading https://files.pythonhosted.org/packages/63/d0/693477c688348654ddc21dcdce0817653a294aa43f41771084c25e7ff9c7/s3transfer-0.4.2-py2.py3-none-any.whl (79kB)\n",
            "\u001b[K     |████████████████████████████████| 81kB 10.0MB/s \n",
            "\u001b[?25hCollecting botocore<1.21.0,>=1.20.109\n",
            "\u001b[?25l  Downloading https://files.pythonhosted.org/packages/07/53/779ef784d896647f53e629143b5002adee52ea4574aa3dfaa8a9fe322c92/botocore-1.20.109-py2.py3-none-any.whl (7.7MB)\n",
            "\u001b[K     |████████████████████████████████| 7.7MB 19.5MB/s \n",
            "\u001b[?25hCollecting jmespath<1.0.0,>=0.7.1\n",
            "  Downloading https://files.pythonhosted.org/packages/07/cb/5f001272b6faeb23c1c9e0acc04d48eaaf5c862c17709d20e3469c6e0139/jmespath-0.10.0-py2.py3-none-any.whl\n",
            "Requirement already satisfied: six in /usr/local/lib/python3.7/dist-packages (from sacremoses->transformers==2.8.0) (1.15.0)\n",
            "Requirement already satisfied: joblib in /usr/local/lib/python3.7/dist-packages (from sacremoses->transformers==2.8.0) (1.0.1)\n",
            "Requirement already satisfied: click in /usr/local/lib/python3.7/dist-packages (from sacremoses->transformers==2.8.0) (7.1.2)\n",
            "Requirement already satisfied: python-dateutil<3.0.0,>=2.1 in /usr/local/lib/python3.7/dist-packages (from botocore<1.21.0,>=1.20.109->boto3->transformers==2.8.0) (2.8.1)\n",
            "\u001b[31mERROR: botocore 1.20.109 has requirement urllib3<1.27,>=1.25.4, but you'll have urllib3 1.24.3 which is incompatible.\u001b[0m\n",
            "Installing collected packages: jmespath, botocore, s3transfer, boto3, sacremoses, tokenizers, sentencepiece, transformers\n",
            "Successfully installed boto3-1.17.109 botocore-1.20.109 jmespath-0.10.0 s3transfer-0.4.2 sacremoses-0.0.45 sentencepiece-0.1.96 tokenizers-0.5.2 transformers-2.8.0\n"
          ],
          "name": "stdout"
        }
      ]
    },
    {
      "cell_type": "markdown",
      "metadata": {
        "id": "D4sXctSh4sq0"
      },
      "source": [
        "## 2. Tokenization and Input Formatting"
      ]
    },
    {
      "cell_type": "markdown",
      "metadata": {
        "id": "ygbZpK6qbIYE"
      },
      "source": [
        "Before tokenizing our text, we will perform some slight processing on our text including removing entity mentions (eg. @united) and some special character. The level of processing here is much less than in previous approachs because BERT was trained with the entire sentences."
      ]
    },
    {
      "cell_type": "code",
      "metadata": {
        "id": "4L_Rc7l4bgzJ"
      },
      "source": [
        "def text_preprocessing(text):\n",
        "    \"\"\"\n",
        "    - Remove entity mentions (eg. '@united')\n",
        "    - Correct errors (eg. '&amp;' to '&')\n",
        "    @param    text (str): a string to be processed.\n",
        "    @return   text (Str): the processed string.\n",
        "    \"\"\"\n",
        "    # Remove '@name'\n",
        "    text = re.sub(r'(@.*?)[\\s]', ' ', text)\n",
        "\n",
        "    # Replace '&amp;' with '&'\n",
        "    text = re.sub(r'&amp;', '&', text)\n",
        "\n",
        "    # Remove trailing whitespace\n",
        "    text = re.sub(r'\\s+', ' ', text).strip()\n",
        "\n",
        "    return text"
      ],
      "execution_count": 27,
      "outputs": []
    },
    {
      "cell_type": "code",
      "metadata": {
        "id": "qyYmHR8McE0r",
        "colab": {
          "base_uri": "https://localhost:8080/"
        },
        "outputId": "14e729f9-5232-49c7-9376-269e502929c0"
      },
      "source": [
        "# Print sentence 0\n",
        "print('Original: ', X[0])\n",
        "print('Processed: ', text_preprocessing(X[0]))"
      ],
      "execution_count": 28,
      "outputs": [
        {
          "output_type": "stream",
          "text": [
            "Original:  \"More people have been forced to flee and fewer are able to safely return to their country of origin,\" 2010 #JohnMonashScholar Catherine Stubberfield is quoted in @abcnews as spokeswoman for the @Refugees in Canberra. Read here: https://t.co/MHICWaeu9c\n",
            "Processed:  \"More people have been forced to flee and fewer are able to safely return to their country of origin,\" 2010 #JohnMonashScholar Catherine Stubberfield is quoted in as spokeswoman for the in Canberra. Read here: https://t.co/MHICWaeu9c\n"
          ],
          "name": "stdout"
        }
      ]
    },
    {
      "cell_type": "markdown",
      "metadata": {
        "id": "i3acv6s95YYr"
      },
      "source": [
        "### 2.1. BERT Tokenizer"
      ]
    },
    {
      "cell_type": "markdown",
      "metadata": {
        "id": "C1fRHtdU5dEn"
      },
      "source": [
        "In order to apply the pre-trained BERT, we must use the tokenizer provided by the library. This is because (1) the model has a specific, fixed vocabulary and (2) the BERT tokenizer has a particular way of handling out-of-vocabulary words.\n",
        "\n",
        "In addition, we are required to add special tokens to the start and end of each sentence, pad & truncate all sentences to a single constant length, and explicitly specify what are padding tokens with the \"attention mask\".\n",
        "\n",
        "The `encode_plus` method of BERT tokenizer will:\n",
        "\n",
        "(1) split our text into tokens,\n",
        "\n",
        "(2) add the special `[CLS]` and `[SEP]` tokens, and\n",
        "\n",
        "(3) convert these tokens into indexes of the tokenizer vocabulary,\n",
        "\n",
        "(4) pad or truncate sentences to max length, and\n",
        "\n",
        "(5) create attention mask.\n",
        "\n",
        "\n",
        "\n",
        "\n"
      ]
    },
    {
      "cell_type": "code",
      "metadata": {
        "id": "yDAfbCle59tP",
        "colab": {
          "base_uri": "https://localhost:8080/",
          "height": 68,
          "referenced_widgets": [
            "c7c0d9606bb343c88fc42f65855f9eab",
            "d4d91256af7a4d7a86b2bfd6f6eabe5b",
            "10f54508d4c248a992cbf374a689501c",
            "392e49e82127455cadc48c7c95847dec",
            "d9ae45fc37ea419c850fa7814f0700ec",
            "c7bbdc986c7a4e2ea1922c33bea44930",
            "9a303aa6cd024af9a5e9594425ad1fbd",
            "41c9a65f1bfb4be38ab123d7dfb8c7d3"
          ]
        },
        "outputId": "1fa295e3-c8e4-41d9-983d-d50226d8f17a"
      },
      "source": [
        "from transformers import BertTokenizer\n",
        "\n",
        "# Load the BERT tokenizer\n",
        "tokenizer = BertTokenizer.from_pretrained('bert-base-uncased', do_lower_case=True)\n",
        "\n",
        "# Create a function to tokenize a set of texts\n",
        "def preprocessing_for_bert(data):\n",
        "    \"\"\"Perform required preprocessing steps for pretrained BERT.\n",
        "    @param    data (np.array): Array of texts to be processed.\n",
        "    @return   input_ids (torch.Tensor): Tensor of token ids to be fed to a model.\n",
        "    @return   attention_masks (torch.Tensor): Tensor of indices specifying which\n",
        "                  tokens should be attended to by the model.\n",
        "    \"\"\"\n",
        "    # Create empty lists to store outputs\n",
        "    input_ids = []\n",
        "    attention_masks = []\n",
        "\n",
        "    # For every sentence...\n",
        "    for sent in data:\n",
        "        # `encode_plus` will:\n",
        "        #    (1) Tokenize the sentence\n",
        "        #    (2) Add the `[CLS]` and `[SEP]` token to the start and end\n",
        "        #    (3) Truncate/Pad sentence to max length\n",
        "        #    (4) Map tokens to their IDs\n",
        "        #    (5) Create attention mask\n",
        "        #    (6) Return a dictionary of outputs\n",
        "        encoded_sent = tokenizer.encode_plus(\n",
        "            text=text_preprocessing(sent),  # Preprocess sentence\n",
        "            add_special_tokens=True,        # Add `[CLS]` and `[SEP]`\n",
        "            max_length=MAX_LEN,                  # Max length to truncate/pad\n",
        "            pad_to_max_length=True,         # Pad sentence to max length\n",
        "            #return_tensors='pt',           # Return PyTorch tensor\n",
        "            return_attention_mask=True      # Return attention mask\n",
        "            )\n",
        "        \n",
        "        # Add the outputs to the lists\n",
        "        input_ids.append(encoded_sent.get('input_ids'))\n",
        "        attention_masks.append(encoded_sent.get('attention_mask'))\n",
        "\n",
        "    # Convert lists to tensors\n",
        "    input_ids = torch.tensor(input_ids)\n",
        "    attention_masks = torch.tensor(attention_masks)\n",
        "\n",
        "    return input_ids, attention_masks"
      ],
      "execution_count": 29,
      "outputs": [
        {
          "output_type": "display_data",
          "data": {
            "application/vnd.jupyter.widget-view+json": {
              "model_id": "c7c0d9606bb343c88fc42f65855f9eab",
              "version_minor": 0,
              "version_major": 2
            },
            "text/plain": [
              "HBox(children=(FloatProgress(value=0.0, description='Downloading', max=231508.0, style=ProgressStyle(descripti…"
            ]
          },
          "metadata": {
            "tags": []
          }
        },
        {
          "output_type": "stream",
          "text": [
            "\n"
          ],
          "name": "stdout"
        }
      ]
    },
    {
      "cell_type": "markdown",
      "metadata": {
        "id": "TNE9oASMZ1bN"
      },
      "source": [
        "Before tokenizing, we need to specify the maximum length of our sentences."
      ]
    },
    {
      "cell_type": "code",
      "metadata": {
        "colab": {
          "base_uri": "https://localhost:8080/"
        },
        "id": "sARQigOqflFN",
        "outputId": "141449aa-8f1a-40cb-f687-9c83281e24a9"
      },
      "source": [
        "print(data_tweets.Tweet.values[0])"
      ],
      "execution_count": 30,
      "outputs": [
        {
          "output_type": "stream",
          "text": [
            "\"More people have been forced to flee and fewer are able to safely return to their country of origin,\" 2010 #JohnMonashScholar Catherine Stubberfield is quoted in @abcnews as spokeswoman for the @Refugees in Canberra. Read here: https://t.co/MHICWaeu9c\n"
          ],
          "name": "stdout"
        }
      ]
    },
    {
      "cell_type": "code",
      "metadata": {
        "id": "hrbvKGNAlMtt",
        "colab": {
          "base_uri": "https://localhost:8080/"
        },
        "outputId": "d7ac49d7-f355-4ec4-fae1-f2438204f2b6"
      },
      "source": [
        "# Concatenate train data and test data\n",
        "#all_tweets = np.concatenate([data_tweets.Tweet.values, test_data.tweet.values])\n",
        "\n",
        "all_tweets = data_tweets.Tweet.values\n",
        "\n",
        "# Encode our concatenated data\n",
        "encoded_tweets = [tokenizer.encode(sent, add_special_tokens=True) for sent in all_tweets]\n",
        "\n",
        "#print(encoded_tweets[0])\n",
        "\n",
        "# Find the maximum length\n",
        "max_len = max([len(sent) for sent in encoded_tweets])\n",
        "\n",
        "print('Max length: ', max_len)"
      ],
      "execution_count": 31,
      "outputs": [
        {
          "output_type": "stream",
          "text": [
            "Max length:  339\n"
          ],
          "name": "stdout"
        }
      ]
    },
    {
      "cell_type": "markdown",
      "metadata": {
        "id": "vpdjBB9fmbu2"
      },
      "source": [
        "Now let's tokenize our data."
      ]
    },
    {
      "cell_type": "code",
      "metadata": {
        "id": "QTlQzTzAfCy7",
        "colab": {
          "base_uri": "https://localhost:8080/"
        },
        "outputId": "96bdc946-28c7-4212-8a9e-022bd7c958d5"
      },
      "source": [
        "# Specify `MAX_LEN`\n",
        "# MAX_LEN = 64\n",
        "MAX_LEN = 128\n",
        "\n",
        "# Print sentence 0 and its encoded token ids\n",
        "token_ids = list(preprocessing_for_bert([X[0]])[0].squeeze().numpy())\n",
        "print('Original: ', X[0])\n",
        "print('Token IDs: ', token_ids)\n",
        "\n",
        "# Run function `preprocessing_for_bert` on the train set and the validation set\n",
        "print('Tokenizing data...')\n",
        "train_inputs, train_masks = preprocessing_for_bert(X_train)\n",
        "val_inputs, val_masks = preprocessing_for_bert(X_val)"
      ],
      "execution_count": 32,
      "outputs": [
        {
          "output_type": "stream",
          "text": [
            "Original:  \"More people have been forced to flee and fewer are able to safely return to their country of origin,\" 2010 #JohnMonashScholar Catherine Stubberfield is quoted in @abcnews as spokeswoman for the @Refugees in Canberra. Read here: https://t.co/MHICWaeu9c\n",
            "Token IDs:  [101, 1000, 2062, 2111, 2031, 2042, 3140, 2000, 10574, 1998, 8491, 2024, 2583, 2000, 9689, 2709, 2000, 2037, 2406, 1997, 4761, 1010, 1000, 2230, 1001, 2198, 21781, 4095, 11624, 19478, 6615, 24646, 29325, 3790, 2003, 9339, 1999, 2004, 3764, 26760, 20778, 2005, 1996, 1999, 13107, 1012, 3191, 2182, 1024, 16770, 1024, 1013, 1013, 1056, 1012, 2522, 1013, 1049, 16066, 4213, 13765, 2683, 2278, 102, 0, 0, 0, 0, 0, 0, 0, 0, 0, 0, 0, 0, 0, 0, 0, 0, 0, 0, 0, 0, 0, 0, 0, 0, 0, 0, 0, 0, 0, 0, 0, 0, 0, 0, 0, 0, 0, 0, 0, 0, 0, 0, 0, 0, 0, 0, 0, 0, 0, 0, 0, 0, 0, 0, 0, 0, 0, 0, 0, 0, 0, 0, 0, 0]\n",
            "Tokenizing data...\n"
          ],
          "name": "stdout"
        }
      ]
    },
    {
      "cell_type": "markdown",
      "metadata": {
        "id": "aZU8t5VNfvhY"
      },
      "source": [
        "### 2.2. Create PyTorch DataLoader"
      ]
    },
    {
      "cell_type": "markdown",
      "metadata": {
        "id": "aoHdl3gFgMZY"
      },
      "source": [
        "We will create an iterator for our dataset using the torch DataLoader class. This will help save on memory during training and boost the training speed."
      ]
    },
    {
      "cell_type": "code",
      "metadata": {
        "id": "xHuYEc61gcGL"
      },
      "source": [
        "from torch.utils.data import TensorDataset, DataLoader, RandomSampler, SequentialSampler\n",
        "\n",
        "# Convert other data types to torch.Tensor\n",
        "train_labels = torch.tensor(y_train)\n",
        "val_labels = torch.tensor(y_val)\n",
        "\n",
        "# For fine-tuning BERT, the authors recommend a batch size of 16 or 32.\n",
        "batch_size = 32\n",
        "\n",
        "# Create the DataLoader for our training set\n",
        "train_data = TensorDataset(train_inputs, train_masks, train_labels)\n",
        "train_sampler = RandomSampler(train_data)\n",
        "train_dataloader = DataLoader(train_data, sampler=train_sampler, batch_size=batch_size)\n",
        "\n",
        "# Create the DataLoader for our validation set\n",
        "val_data = TensorDataset(val_inputs, val_masks, val_labels)\n",
        "val_sampler = SequentialSampler(val_data)\n",
        "val_dataloader = DataLoader(val_data, sampler=val_sampler, batch_size=batch_size)"
      ],
      "execution_count": 33,
      "outputs": []
    },
    {
      "cell_type": "markdown",
      "metadata": {
        "id": "SSRAga-yj17q"
      },
      "source": [
        "## 3. Train Our Model"
      ]
    },
    {
      "cell_type": "markdown",
      "metadata": {
        "id": "KoOdsDgG8b_Z"
      },
      "source": [
        "### 3.1. Create BertClassifier"
      ]
    },
    {
      "cell_type": "markdown",
      "metadata": {
        "id": "zA_yESCl5nuK"
      },
      "source": [
        "BERT-base consists of 12 transformer layers, each transformer layer takes in a list of token embeddings, and produces the same number of embeddings with the same hidden size (or dimensions) on the output. The output of the final transformer layer of the `[CLS]` token is used as the features of the sequence to feed a classifier.\n",
        "\n",
        "The `transformers` library has the [`BertForSequenceClassification`](https://huggingface.co/transformers/v2.2.0/model_doc/bert.html#bertforsequenceclassification) class which is designed for classification tasks. However, we will create a new class so we can specify our own choice of classifiers.\n",
        "\n",
        "Below we will create a BertClassifier class with a BERT model to extract the last hidden layer of the `[CLS]` token and a single-hidden-layer feed-forward neural network as our classifier."
      ]
    },
    {
      "cell_type": "code",
      "metadata": {
        "id": "YK41aBFSj5jK",
        "colab": {
          "base_uri": "https://localhost:8080/"
        },
        "outputId": "8cf6c26e-193f-4fa0-dc28-ff08783ba254"
      },
      "source": [
        "%%time\n",
        "import torch\n",
        "import torch.nn as nn\n",
        "from transformers import BertModel\n",
        "\n",
        "# Create the BertClassfier class\n",
        "class BertClassifier(nn.Module):\n",
        "    \"\"\"Bert Model for Classification Tasks.\n",
        "    \"\"\"\n",
        "    def __init__(self, freeze_bert=False):\n",
        "        \"\"\"\n",
        "        @param    bert: a BertModel object\n",
        "        @param    classifier: a torch.nn.Module classifier\n",
        "        @param    freeze_bert (bool): Set `False` to fine-tune the BERT model\n",
        "        \"\"\"\n",
        "        super(BertClassifier, self).__init__()\n",
        "        # Specify hidden size of BERT, hidden size of our classifier, and number of labels\n",
        "        D_in, H, D_out = 768, 50, len(class_lables)\n",
        "\n",
        "        # Instantiate BERT model\n",
        "        self.bert = BertModel.from_pretrained('bert-base-uncased')\n",
        "\n",
        "        # Instantiate an one-layer feed-forward classifier\n",
        "        self.classifier = nn.Sequential(\n",
        "            nn.Linear(D_in, H),\n",
        "            #nn.ReLU(),\n",
        "            #nn.Softmax,\n",
        "            #nn.Dropout(0.5),\n",
        "            nn.Linear(H, D_out)\n",
        "        )\n",
        "\n",
        "        # Freeze the BERT model\n",
        "        if freeze_bert:\n",
        "            for param in self.bert.parameters():\n",
        "                param.requires_grad = False\n",
        "        \n",
        "    def forward(self, input_ids, attention_mask):\n",
        "        \"\"\"\n",
        "        Feed input to BERT and the classifier to compute logits.\n",
        "        @param    input_ids (torch.Tensor): an input tensor with shape (batch_size,\n",
        "                      max_length)\n",
        "        @param    attention_mask (torch.Tensor): a tensor that hold attention mask\n",
        "                      information with shape (batch_size, max_length)\n",
        "        @return   logits (torch.Tensor): an output tensor with shape (batch_size,\n",
        "                      num_labels)\n",
        "        \"\"\"\n",
        "        # Feed input to BERT\n",
        "        outputs = self.bert(input_ids=input_ids,\n",
        "                            attention_mask=attention_mask)\n",
        "        \n",
        "        # Extract the last hidden state of the token `[CLS]` for classification task\n",
        "        last_hidden_state_cls = outputs[0][:, 0, :]\n",
        "\n",
        "        # Feed input to classifier to compute logits\n",
        "        logits = self.classifier(last_hidden_state_cls)\n",
        "\n",
        "        return logits"
      ],
      "execution_count": 34,
      "outputs": [
        {
          "output_type": "stream",
          "text": [
            "CPU times: user 36 µs, sys: 3 µs, total: 39 µs\n",
            "Wall time: 42.4 µs\n"
          ],
          "name": "stdout"
        }
      ]
    },
    {
      "cell_type": "markdown",
      "metadata": {
        "id": "LwNrCgPh-yR7"
      },
      "source": [
        "### 3.2. Optimizer & Learning Rate Scheduler"
      ]
    },
    {
      "cell_type": "markdown",
      "metadata": {
        "id": "V6iOXiN8-8gc"
      },
      "source": [
        "To fine-tune our Bert Classifier, we need to create an optimizer. The authors recommend following hyper-parameters:\n",
        "\n",
        "- Batch size: 16 or 32\n",
        "- Learning rate (Adam): 5e-5, 3e-5 or 2e-5\n",
        "- Number of epochs: 2, 3, 4\n",
        "\n",
        "Huggingface provided the [run_glue.py](https://github.com/huggingface/transformers/blob/5bfcd0485ece086ebcbed2d008813037968a9e58/examples/run_glue.py#L109) script, an examples of implementing the `transformers` library. In the script, the AdamW optimizer is used."
      ]
    },
    {
      "cell_type": "code",
      "metadata": {
        "id": "JX7su7Q_269U"
      },
      "source": [
        "from transformers import AdamW, get_linear_schedule_with_warmup\n",
        "\n",
        "def initialize_model(epochs=4):\n",
        "    \"\"\"Initialize the Bert Classifier, the optimizer and the learning rate scheduler.\n",
        "    \"\"\"\n",
        "    # Instantiate Bert Classifier\n",
        "    bert_classifier = BertClassifier(freeze_bert=False)\n",
        "\n",
        "    # Tell PyTorch to run the model on GPU\n",
        "    bert_classifier.to(device)\n",
        "\n",
        "    # Create the optimizer\n",
        "    optimizer = AdamW(bert_classifier.parameters(),\n",
        "                      lr=5e-5,    # Default learning rate\n",
        "                      eps=1e-8    # Default epsilon value\n",
        "                      )\n",
        "\n",
        "    # Total number of training steps\n",
        "    total_steps = len(train_dataloader) * epochs\n",
        "\n",
        "    # Set up the learning rate scheduler\n",
        "    scheduler = get_linear_schedule_with_warmup(optimizer,\n",
        "                                                num_warmup_steps=0, # Default value\n",
        "                                                num_training_steps=total_steps)\n",
        "    return bert_classifier, optimizer, scheduler"
      ],
      "execution_count": 35,
      "outputs": []
    },
    {
      "cell_type": "markdown",
      "metadata": {
        "id": "41DRNjv4B0Ow"
      },
      "source": [
        "### 3.3. Training Loop"
      ]
    },
    {
      "cell_type": "markdown",
      "metadata": {
        "id": "VYU-GQRZG0y8"
      },
      "source": [
        "We will train our Bert Classifier for 4 epochs. In each epoch, we will train our model and evaluate its performance on the validation set. In more details, we will:\n",
        "\n",
        "Training:\n",
        "- Unpack our data from the dataloader and load the data onto the GPU\n",
        "- Zero out gradients calculated in the previous pass\n",
        "- Perform a forward pass to compute logits and loss\n",
        "- Perform a backward pass to compute gradients (`loss.backward()`)\n",
        "- Clip the norm of the gradients to 1.0 to prevent \"exploding gradients\"\n",
        "- Update the model's parameters (`optimizer.step()`)\n",
        "- Update the learning rate (`scheduler.step()`)\n",
        "\n",
        "Evaluation:\n",
        "- Unpack our data and load onto the GPU\n",
        "- Forward pass\n",
        "- Compute loss and accuracy rate over the validation set\n",
        "\n",
        "The script below is commented with the details of our training and evaluation loop. "
      ]
    },
    {
      "cell_type": "code",
      "metadata": {
        "id": "Xy4HkhyECibW"
      },
      "source": [
        "import random\n",
        "import time\n",
        "\n",
        "# Specify loss function\n",
        "loss_fn = nn.CrossEntropyLoss()\n",
        "\n",
        "def set_seed(seed_value=42):\n",
        "    \"\"\"Set seed for reproducibility.\n",
        "    \"\"\"\n",
        "    random.seed(seed_value)\n",
        "    np.random.seed(seed_value)\n",
        "    torch.manual_seed(seed_value)\n",
        "    torch.cuda.manual_seed_all(seed_value)\n",
        "\n",
        "def train(model, train_dataloader, val_dataloader=None, epochs=4, evaluation=False):\n",
        "    \"\"\"Train the BertClassifier model.\n",
        "    \"\"\"\n",
        "    # Start training loop\n",
        "    print(\"Start training...\\n\")\n",
        "    for epoch_i in range(epochs):\n",
        "        # =======================================\n",
        "        #               Training\n",
        "        # =======================================\n",
        "        # Print the header of the result table\n",
        "        print(f\"{'Epoch':^7} | {'Batch':^7} | {'Train Loss':^12} | {'Val Loss':^10} | {'Val Acc':^9} | {'Elapsed':^9}\")\n",
        "        print(\"-\"*70)\n",
        "\n",
        "        # Measure the elapsed time of each epoch\n",
        "        t0_epoch, t0_batch = time.time(), time.time()\n",
        "\n",
        "        # Reset tracking variables at the beginning of each epoch\n",
        "        total_loss, batch_loss, batch_counts = 0, 0, 0\n",
        "\n",
        "        # Put the model into the training mode\n",
        "        model.train()\n",
        "\n",
        "        # For each batch of training data...\n",
        "        for step, batch in enumerate(train_dataloader):\n",
        "            batch_counts +=1\n",
        "            # Load batch to GPU\n",
        "            b_input_ids, b_attn_mask, b_labels = tuple(t.to(device) for t in batch)\n",
        "\n",
        "            # Zero out any previously calculated gradients\n",
        "            model.zero_grad()\n",
        "\n",
        "            # Perform a forward pass. This will return logits.\n",
        "            logits = model(b_input_ids, b_attn_mask)\n",
        "\n",
        "            # Compute loss and accumulate the loss values\n",
        "            loss = loss_fn(logits, b_labels)\n",
        "            batch_loss += loss.item()\n",
        "            total_loss += loss.item()\n",
        "\n",
        "            # Perform a backward pass to calculate gradients\n",
        "            loss.backward()\n",
        "\n",
        "            # Clip the norm of the gradients to 1.0 to prevent \"exploding gradients\"\n",
        "            torch.nn.utils.clip_grad_norm_(model.parameters(), 1.0)\n",
        "\n",
        "            # Update parameters and the learning rate\n",
        "            optimizer.step()\n",
        "            scheduler.step()\n",
        "\n",
        "            # Print the loss values and time elapsed for every 20 batches\n",
        "            if (step % 20 == 0 and step != 0) or (step == len(train_dataloader) - 1):\n",
        "                # Calculate time elapsed for 20 batches\n",
        "                time_elapsed = time.time() - t0_batch\n",
        "\n",
        "                # Print training results\n",
        "                print(f\"{epoch_i + 1:^7} | {step:^7} | {batch_loss / batch_counts:^12.6f} | {'-':^10} | {'-':^9} | {time_elapsed:^9.2f}\")\n",
        "\n",
        "                # Reset batch tracking variables\n",
        "                batch_loss, batch_counts = 0, 0\n",
        "                t0_batch = time.time()\n",
        "\n",
        "        # Calculate the average loss over the entire training data\n",
        "        avg_train_loss = total_loss / len(train_dataloader)\n",
        "\n",
        "        print(\"-\"*70)\n",
        "        # =======================================\n",
        "        #               Evaluation\n",
        "        # =======================================\n",
        "        if evaluation == True:\n",
        "            # After the completion of each training epoch, measure the model's performance\n",
        "            # on our validation set.\n",
        "            val_loss, val_accuracy = evaluate(model, val_dataloader)\n",
        "\n",
        "            # Print performance over the entire training data\n",
        "            time_elapsed = time.time() - t0_epoch\n",
        "            \n",
        "            print(f\"{epoch_i + 1:^7} | {'-':^7} | {avg_train_loss:^12.6f} | {val_loss:^10.6f} | {val_accuracy:^9.2f} | {time_elapsed:^9.2f}\")\n",
        "            print(\"-\"*70)\n",
        "        print(\"\\n\")\n",
        "    \n",
        "    print(\"Training complete!\")\n",
        "\n",
        "\n",
        "def evaluate(model, val_dataloader):\n",
        "    \"\"\"After the completion of each training epoch, measure the model's performance\n",
        "    on our validation set.\n",
        "    \"\"\"\n",
        "    # Put the model into the evaluation mode. The dropout layers are disabled during\n",
        "    # the test time.\n",
        "    model.eval()\n",
        "\n",
        "    # Tracking variables\n",
        "    val_accuracy = []\n",
        "    val_loss = []\n",
        "\n",
        "    # For each batch in our validation set...\n",
        "    for batch in val_dataloader:\n",
        "        # Load batch to GPU\n",
        "        b_input_ids, b_attn_mask, b_labels = tuple(t.to(device) for t in batch)\n",
        "\n",
        "        # Compute logits\n",
        "        with torch.no_grad():\n",
        "            logits = model(b_input_ids, b_attn_mask)\n",
        "\n",
        "        # Compute loss\n",
        "        loss = loss_fn(logits, b_labels)\n",
        "        val_loss.append(loss.item())\n",
        "\n",
        "        # Get the predictions\n",
        "        preds = torch.argmax(logits, dim=1).flatten()\n",
        "\n",
        "        # Calculate the accuracy rate\n",
        "        accuracy = (preds == b_labels).cpu().numpy().mean() * 100\n",
        "        val_accuracy.append(accuracy)\n",
        "\n",
        "    # Compute the average accuracy and loss over the validation set.\n",
        "    val_loss = np.mean(val_loss)\n",
        "    val_accuracy = np.mean(val_accuracy)\n",
        "\n",
        "    return val_loss, val_accuracy"
      ],
      "execution_count": 36,
      "outputs": []
    },
    {
      "cell_type": "markdown",
      "metadata": {
        "id": "BSfTy9LqiFD-"
      },
      "source": [
        "Now, let's start training our BertClassifier!"
      ]
    },
    {
      "cell_type": "code",
      "metadata": {
        "id": "wfYw7dJ0U0v6",
        "colab": {
          "base_uri": "https://localhost:8080/",
          "height": 644,
          "referenced_widgets": [
            "b836ac751c3245eca54d37274e3829d8",
            "ed8b672622ca40948c7a0b9fcf06c9ca",
            "4230b12aa62942bf9cfabf472b65a3cc",
            "acd5341e68de4042912716d40db37855",
            "eecd597c5486487a8d7def937760db56",
            "f2ba9b4ef45b47e9bd937b53167163b2",
            "bcd00eb81dbd4d7dba83d4e659b3dfda",
            "5ffbe83dcf8d4dda9de6905372e333a1",
            "662abf1bdf1a46368fd8c67d94d0ab81",
            "3bf669dbaf5e417b8844d37b44e82f29",
            "3d0e3c3b2b984ca9ab78542864d96188",
            "e26f88c032f5411392d782058d278ba7",
            "35f64f3256bf42258555eb2ec2d7739b",
            "ec8ec8eb45264da39ef7c2567faf4566",
            "f629501080fd4432b053154fba7e8a4a",
            "a17805dc809c4cd985e80ca324aae9e9"
          ]
        },
        "outputId": "d781baf1-8769-4821-f120-3bef6a6eb285"
      },
      "source": [
        "set_seed(42)    # Set seed for reproducibility\n",
        "bert_classifier, optimizer, scheduler = initialize_model(epochs=2)\n",
        "train(bert_classifier, train_dataloader, val_dataloader, epochs=2, evaluation=True)"
      ],
      "execution_count": 37,
      "outputs": [
        {
          "output_type": "display_data",
          "data": {
            "application/vnd.jupyter.widget-view+json": {
              "model_id": "b836ac751c3245eca54d37274e3829d8",
              "version_minor": 0,
              "version_major": 2
            },
            "text/plain": [
              "HBox(children=(FloatProgress(value=0.0, description='Downloading', max=433.0, style=ProgressStyle(description_…"
            ]
          },
          "metadata": {
            "tags": []
          }
        },
        {
          "output_type": "stream",
          "text": [
            "\n"
          ],
          "name": "stdout"
        },
        {
          "output_type": "display_data",
          "data": {
            "application/vnd.jupyter.widget-view+json": {
              "model_id": "662abf1bdf1a46368fd8c67d94d0ab81",
              "version_minor": 0,
              "version_major": 2
            },
            "text/plain": [
              "HBox(children=(FloatProgress(value=0.0, description='Downloading', max=440473133.0, style=ProgressStyle(descri…"
            ]
          },
          "metadata": {
            "tags": []
          }
        },
        {
          "output_type": "stream",
          "text": [
            "\n",
            "Start training...\n",
            "\n",
            " Epoch  |  Batch  |  Train Loss  |  Val Loss  |  Val Acc  |  Elapsed \n",
            "----------------------------------------------------------------------\n"
          ],
          "name": "stdout"
        },
        {
          "output_type": "stream",
          "text": [
            "/usr/local/lib/python3.7/dist-packages/transformers/optimization.py:155: UserWarning: This overload of add_ is deprecated:\n",
            "\tadd_(Number alpha, Tensor other)\n",
            "Consider using one of the following signatures instead:\n",
            "\tadd_(Tensor other, *, Number alpha) (Triggered internally at  /pytorch/torch/csrc/utils/python_arg_parser.cpp:1025.)\n",
            "  exp_avg.mul_(beta1).add_(1.0 - beta1, grad)\n"
          ],
          "name": "stderr"
        },
        {
          "output_type": "stream",
          "text": [
            "   1    |   20    |   1.372887   |     -      |     -     |   13.11  \n",
            "   1    |   40    |   1.097493   |     -      |     -     |   12.26  \n",
            "   1    |   55    |   0.961280   |     -      |     -     |   9.04   \n",
            "----------------------------------------------------------------------\n",
            "   1    |    -    |   1.164280   |  0.945202  |   64.30   |   37.41  \n",
            "----------------------------------------------------------------------\n",
            "\n",
            "\n",
            " Epoch  |  Batch  |  Train Loss  |  Val Loss  |  Val Acc  |  Elapsed \n",
            "----------------------------------------------------------------------\n",
            "   2    |   20    |   0.777923   |     -      |     -     |   13.20  \n",
            "   2    |   40    |   0.738448   |     -      |     -     |   12.70  \n",
            "   2    |   55    |   0.707493   |     -      |     -     |   9.40   \n",
            "----------------------------------------------------------------------\n",
            "   2    |    -    |   0.744959   |  0.853865  |   67.43   |   38.43  \n",
            "----------------------------------------------------------------------\n",
            "\n",
            "\n",
            "Training complete!\n"
          ],
          "name": "stdout"
        }
      ]
    },
    {
      "cell_type": "markdown",
      "metadata": {
        "id": "D5ostg9kPlra"
      },
      "source": [
        "### 3.4. Evaluation on Validation Set"
      ]
    },
    {
      "cell_type": "markdown",
      "metadata": {
        "id": "fIlSTDA7Z9DF"
      },
      "source": [
        "The prediction step is similar to the evaluation step that we did in the training loop, but simpler. We will perform a forward pass to compute logits and apply softmax to calculate probabilities."
      ]
    },
    {
      "cell_type": "code",
      "metadata": {
        "id": "V5_w4erqGzpe"
      },
      "source": [
        "import torch.nn.functional as F\n",
        "\n",
        "def bert_predict(model, test_dataloader):\n",
        "    \"\"\"Perform a forward pass on the trained BERT model to predict probabilities\n",
        "    on the test set.\n",
        "    \"\"\"\n",
        "    # Put the model into the evaluation mode. The dropout layers are disabled during\n",
        "    # the test time.\n",
        "    model.eval()\n",
        "\n",
        "    all_logits = []\n",
        "\n",
        "    # For each batch in our test set...\n",
        "    for batch in test_dataloader:\n",
        "        # Load batch to GPU\n",
        "        b_input_ids, b_attn_mask = tuple(t.to(device) for t in batch)[:2]\n",
        "\n",
        "        # Compute logits\n",
        "        with torch.no_grad():\n",
        "            logits = model(b_input_ids, b_attn_mask)\n",
        "        all_logits.append(logits)\n",
        "    \n",
        "    # Concatenate logits from each batch\n",
        "    all_logits = torch.cat(all_logits, dim=0)\n",
        "\n",
        "    # Apply softmax to calculate probabilities\n",
        "    probs = F.softmax(all_logits, dim=1).cpu().numpy()\n",
        "\n",
        "    return probs"
      ],
      "execution_count": 38,
      "outputs": []
    },
    {
      "cell_type": "code",
      "metadata": {
        "id": "kcmj5s0eRMUh",
        "colab": {
          "base_uri": "https://localhost:8080/"
        },
        "outputId": "f0558dba-64ff-487e-8fbf-b97f1487d35f"
      },
      "source": [
        "# Compute predicted probabilities on the test set\n",
        "probs = bert_predict(bert_classifier, val_dataloader)\n",
        "\n",
        "# Evaluate the Bert classifier\n",
        "evaluate_roc(probs, y_val, class_lables)"
      ],
      "execution_count": 39,
      "outputs": [
        {
          "output_type": "stream",
          "text": [
            "Accuracy: 67.42%\n",
            "              precision    recall  f1-score   support\n",
            "\n",
            "     sharing       0.60      0.67      0.63        81\n",
            "      liking       0.77      0.64      0.70        85\n",
            "   unrelated       0.66      0.56      0.60        90\n",
            "    helpless       0.83      0.82      0.82       114\n",
            "   disliking       0.51      0.65      0.57        75\n",
            "\n",
            "    accuracy                           0.67       445\n",
            "   macro avg       0.67      0.67      0.66       445\n",
            "weighted avg       0.69      0.67      0.68       445\n",
            "\n"
          ],
          "name": "stdout"
        }
      ]
    },
    {
      "cell_type": "markdown",
      "metadata": {
        "id": "XekOuD6KbS2Q"
      },
      "source": [
        "The Bert Classifer achieves higher accuracy rate than the baseline classifier. "
      ]
    },
    {
      "cell_type": "markdown",
      "metadata": {
        "id": "G5DW6grRmfT-"
      },
      "source": [
        "### 3.5. Train Our Model on the Entire Training Data"
      ]
    },
    {
      "cell_type": "code",
      "metadata": {
        "id": "JkMK5VqJJvSO",
        "colab": {
          "base_uri": "https://localhost:8080/"
        },
        "outputId": "910f3f83-941e-4fe2-b154-a2c3cd936b64"
      },
      "source": [
        "# Concatenate the train set and the validation set\n",
        "full_train_data = torch.utils.data.ConcatDataset([train_data, val_data])\n",
        "full_train_sampler = RandomSampler(full_train_data)\n",
        "full_train_dataloader = DataLoader(full_train_data, sampler=full_train_sampler, batch_size=32)\n",
        "\n",
        "# Train the Bert Classifier on the entire training data\n",
        "set_seed(42)\n",
        "bert_classifier, optimizer, scheduler = initialize_model(epochs=2)\n",
        "train(bert_classifier, full_train_dataloader, epochs=2)"
      ],
      "execution_count": 40,
      "outputs": [
        {
          "output_type": "stream",
          "text": [
            "Start training...\n",
            "\n",
            " Epoch  |  Batch  |  Train Loss  |  Val Loss  |  Val Acc  |  Elapsed \n",
            "----------------------------------------------------------------------\n",
            "   1    |   20    |   1.313771   |     -      |     -     |   13.34  \n",
            "   1    |   40    |   1.064613   |     -      |     -     |   12.83  \n",
            "   1    |   60    |   0.966844   |     -      |     -     |   13.08  \n",
            "   1    |   69    |   1.037679   |     -      |     -     |   5.61   \n",
            "----------------------------------------------------------------------\n",
            "\n",
            "\n",
            " Epoch  |  Batch  |  Train Loss  |  Val Loss  |  Val Acc  |  Elapsed \n",
            "----------------------------------------------------------------------\n",
            "   2    |   20    |   0.788922   |     -      |     -     |   13.95  \n",
            "   2    |   40    |   0.730664   |     -      |     -     |   13.46  \n",
            "   2    |   60    |   0.695794   |     -      |     -     |   13.66  \n",
            "   2    |   69    |   0.733885   |     -      |     -     |   5.79   \n",
            "----------------------------------------------------------------------\n",
            "\n",
            "\n",
            "Training complete!\n"
          ],
          "name": "stdout"
        }
      ]
    },
    {
      "cell_type": "code",
      "metadata": {
        "colab": {
          "base_uri": "https://localhost:8080/"
        },
        "id": "KRPRWpmVZjl8",
        "outputId": "ed5008de-e406-4e5a-9efe-dd83a7c686ba"
      },
      "source": [
        "# Compute predicted probabilities on the test set\n",
        "probs = bert_predict(bert_classifier, val_dataloader)\n",
        "\n",
        "# Evaluate the Bert classifier\n",
        "evaluate_roc(probs, y_val)"
      ],
      "execution_count": 41,
      "outputs": [
        {
          "output_type": "stream",
          "text": [
            "Accuracy: 77.30%\n",
            "              precision    recall  f1-score   support\n",
            "\n",
            "           0       0.67      0.77      0.72        81\n",
            "           1       0.78      0.76      0.77        85\n",
            "           2       0.85      0.67      0.75        90\n",
            "           3       0.84      0.90      0.87       114\n",
            "           4       0.71      0.72      0.72        75\n",
            "\n",
            "    accuracy                           0.77       445\n",
            "   macro avg       0.77      0.76      0.76       445\n",
            "weighted avg       0.78      0.77      0.77       445\n",
            "\n"
          ],
          "name": "stdout"
        }
      ]
    },
    {
      "cell_type": "markdown",
      "metadata": {
        "id": "EWSOnwkCnuKV"
      },
      "source": [
        "# 4. Predictions on New Tweets\n",
        "\n",
        "\n",
        "Please change the path to the new data, which will be classified using the BERT Attitude classifier. \n",
        "\n"
      ]
    },
    {
      "cell_type": "markdown",
      "metadata": {
        "id": "5mvwneCzDXUg"
      },
      "source": [
        "### Helper functions"
      ]
    },
    {
      "cell_type": "code",
      "metadata": {
        "id": "eOoB6TAH0lZY"
      },
      "source": [
        "\n",
        "def do_predictions(text_to_predict):\n",
        "  \"\"\"\n",
        "\n",
        "  \"\"\"\n",
        "\n",
        "  test_inputs, test_masks = preprocessing_for_bert(text_to_predict)\n",
        "\n",
        "  # Create the DataLoader for our test set\n",
        "  test_dataset = TensorDataset(test_inputs, test_masks)\n",
        "  test_sampler = SequentialSampler(test_dataset)\n",
        "  test_dataloader = DataLoader(test_dataset, sampler=test_sampler, batch_size=32)\n",
        "\n",
        "  probs = bert_predict(bert_classifier, test_dataloader)\n",
        "\n",
        "  labels = transform_prob_class_indices(probs)\n",
        "\n",
        "  return (probs, labels)\n",
        "\n",
        "  \n",
        "\n"
      ],
      "execution_count": null,
      "outputs": []
    },
    {
      "cell_type": "markdown",
      "metadata": {
        "id": "sJBVPYLyn96x"
      },
      "source": [
        "### Loading Data from drive"
      ]
    },
    {
      "cell_type": "code",
      "metadata": {
        "id": "CDyUPcH4CkfW"
      },
      "source": [
        "# function to predict the data at the file level.\n",
        "\n",
        "def classify_data_file(source_file_path, target_file_path):\n",
        "  \"\"\"\n",
        "  This is a highlevel function, that will do the classification at the file level.\n",
        "  \"\"\"\n",
        "\n",
        "  df_read = pd.read_excel(source_file_path, index_col=0)\n",
        "\n",
        "  print('dataset loaded successfully from: ', source_file_path)\n",
        "\n",
        "  df_read['PredictedLabel'] = ''\n",
        "\n",
        "  for class_lbl in class_lables:\n",
        "\n",
        "    df_read[class_lbl] = 0\n",
        "\n",
        "  df_read.head()\n",
        "\n",
        "\n",
        "  texts = df_read.Tweet_text.values\n",
        "\n",
        "  ids = df_read.index.values\n",
        "\n",
        "  # print(class_lables)\n",
        "\n",
        "  # print('last index', ids[-1])\n",
        "\n",
        "  # update the dataset with new columns.\n",
        "\n",
        "  dataset_size = len(ids)\n",
        "\n",
        "  block_size = 500\n",
        "\n",
        "  current_start = 0\n",
        "\n",
        "  current_end = 0\n",
        "\n",
        "  while current_end < dataset_size:\n",
        "\n",
        "    if current_start >= dataset_size:\n",
        "      exit\n",
        "\n",
        "    current_end = current_start + block_size\n",
        "\n",
        "    if current_end >= dataset_size:\n",
        "      current_end = dataset_size\n",
        "\n",
        "    text_block = texts[current_start : current_end]\n",
        "\n",
        "    ids_block = ids[current_start : current_end]\n",
        "\n",
        "    # print(ids_block[0], '', ids_block[len(ids_block) -1])\n",
        "\n",
        "    # get the results...\n",
        "    results = do_predictions(text_block)\n",
        "\n",
        "    prob_values = results[0]\n",
        "\n",
        "    label_values = results[1]\n",
        "\n",
        "    if current_start % 1000 == 0:\n",
        "      print(current_start, ' : ', current_end)\n",
        "\n",
        "\n",
        "    # process the dataset\n",
        "\n",
        "    for ind in range(len(ids_block)):\n",
        "\n",
        "      df_read.loc[ids_block[ind], 'PredictedLabel'] = class_lables[label_values[ind]]\n",
        "\n",
        "      for lbl_ind in range(len(class_lables)):\n",
        "        df_read.loc[ids_block[ind], class_lables[lbl_ind]] = \"{0:.4}\".format(prob_values[ind][lbl_ind])\n",
        "\n",
        "\n",
        "    current_start = current_start + block_size\n",
        "\n",
        "  df_read.loc[:,'Tweet_Id'] = df_read.loc[:,'Tweet_Id'].astype('str')\n",
        "  # finally save the dataset.\n",
        "  df_read.to_excel(target_file_path, sheet_name= model_name)\n",
        "\n",
        "  print('completed classifying file: ', target_file_path)\n",
        "\n",
        "\n",
        "\n",
        "\n"
      ],
      "execution_count": null,
      "outputs": []
    },
    {
      "cell_type": "code",
      "metadata": {
        "colab": {
          "base_uri": "https://localhost:8080/"
        },
        "id": "u_zI7oFUIggX",
        "outputId": "d4dbcdfc-8206-4e6a-eaad-85f75b2569db"
      },
      "source": [
        "!ls drive/MyDrive/NLP-BERT_classification/data-to-train-UNHCR/"
      ],
      "execution_count": null,
      "outputs": [
        {
          "output_type": "stream",
          "text": [
            "UNHCR_original_tweets_20210401T132215.xlsx\n"
          ],
          "name": "stdout"
        }
      ]
    },
    {
      "cell_type": "code",
      "metadata": {
        "colab": {
          "base_uri": "https://localhost:8080/"
        },
        "id": "lfM-7hR_oCyk",
        "outputId": "6758880a-e2c1-48d2-88f2-a56731a11d9b"
      },
      "source": [
        "data_folder_path = 'drive/MyDrive/NLP-BERT_classification/data-to-train-UNHCR/'\n",
        "\n",
        "target_folder_path = 'drive/MyDrive/NLP-BERT_classification/attitude-prediction/'\n",
        "\n",
        "import sys,glob\n",
        "import os\n",
        "\n",
        "\n",
        "file_paths = glob.glob(data_folder_path + '/*.xlsx')\n",
        "\n",
        "for file_path in file_paths:\n",
        "\n",
        "  #print(file_path)\n",
        "\n",
        "  filename = os.path.basename(file_path)\n",
        "\n",
        "  target_file_path = target_folder_path + '/' + filename\n",
        "\n",
        "  classify_data_file(file_path, target_file_path)\n",
        "\n",
        "\n",
        "\n",
        "\n",
        "\n"
      ],
      "execution_count": null,
      "outputs": [
        {
          "output_type": "stream",
          "text": [
            "dataset loaded successfully from:  drive/MyDrive/NLP-BERT_classification/data-to-train-UNHCR/UNHCR_original_tweets_20210401T132215.xlsx\n",
            "0  :  500\n",
            "1000  :  1500\n",
            "2000  :  2500\n",
            "3000  :  3500\n",
            "4000  :  4500\n",
            "5000  :  5500\n",
            "6000  :  6500\n",
            "7000  :  7500\n",
            "8000  :  8500\n",
            "9000  :  9500\n",
            "10000  :  10500\n",
            "11000  :  11500\n",
            "12000  :  12500\n",
            "13000  :  13500\n",
            "14000  :  14500\n",
            "15000  :  15500\n",
            "16000  :  16500\n",
            "17000  :  17500\n",
            "18000  :  18500\n",
            "19000  :  19500\n",
            "20000  :  20500\n",
            "21000  :  21500\n",
            "22000  :  22500\n",
            "23000  :  23500\n",
            "24000  :  24500\n",
            "25000  :  25500\n",
            "26000  :  26500\n",
            "27000  :  27500\n",
            "28000  :  28500\n",
            "29000  :  29500\n",
            "30000  :  30500\n",
            "31000  :  31500\n",
            "32000  :  32500\n",
            "33000  :  33500\n",
            "34000  :  34500\n",
            "35000  :  35500\n",
            "36000  :  36500\n",
            "37000  :  37500\n",
            "38000  :  38500\n",
            "39000  :  39500\n",
            "40000  :  40500\n",
            "41000  :  41500\n",
            "42000  :  42500\n",
            "43000  :  43500\n",
            "44000  :  44500\n",
            "45000  :  45500\n",
            "46000  :  46500\n",
            "47000  :  47500\n",
            "48000  :  48500\n",
            "49000  :  49500\n",
            "50000  :  50500\n",
            "51000  :  51500\n",
            "52000  :  52500\n",
            "53000  :  53500\n",
            "54000  :  54500\n",
            "55000  :  55500\n",
            "56000  :  56500\n",
            "57000  :  57500\n",
            "58000  :  58500\n",
            "59000  :  59500\n",
            "60000  :  60500\n",
            "61000  :  61500\n",
            "62000  :  62500\n",
            "63000  :  63500\n",
            "64000  :  64500\n",
            "65000  :  65500\n",
            "66000  :  66500\n",
            "67000  :  67500\n",
            "68000  :  68500\n",
            "69000  :  69500\n",
            "70000  :  70500\n",
            "71000  :  71500\n",
            "72000  :  72500\n",
            "73000  :  73500\n",
            "74000  :  74500\n",
            "75000  :  75500\n",
            "76000  :  76500\n",
            "77000  :  77500\n",
            "78000  :  78500\n",
            "79000  :  79500\n",
            "80000  :  80500\n",
            "81000  :  81500\n",
            "82000  :  82500\n",
            "83000  :  83500\n",
            "84000  :  84500\n",
            "85000  :  85500\n",
            "86000  :  86029\n",
            "completed classifying file:  drive/MyDrive/NLP-BERT_classification/attitude-prediction//UNHCR_original_tweets_20210401T132215.xlsx\n"
          ],
          "name": "stdout"
        }
      ]
    },
    {
      "cell_type": "code",
      "metadata": {
        "id": "FERU3Sonqr5-"
      },
      "source": [
        "# import pandas as pd\n",
        "\n",
        "# filename = 'drive/MyDrive/NLP-BERT_classification/data-to-train/Alphonso~Davies_original_tweets_20210401T115505.xlsx'\n",
        "\n",
        "# df_read = pd.read_excel(filename, index_col=0)\n",
        "\n",
        "# df_read['PredictedLabel'] = ''\n",
        "\n",
        "# for class_lbl in class_lables:\n",
        "\n",
        "#   df_read[class_lbl] = 0\n",
        "\n",
        "# df_read.head()"
      ],
      "execution_count": null,
      "outputs": []
    },
    {
      "cell_type": "code",
      "metadata": {
        "colab": {
          "base_uri": "https://localhost:8080/"
        },
        "id": "0Ro2tkR3uq01",
        "outputId": "dd13a8c4-c22f-41a9-fdeb-17c938c0e95f"
      },
      "source": [
        "# texts = df_read.Tweet_text.values\n",
        "\n",
        "# ids = df_read.index.values\n",
        "\n",
        "# print(class_lables)\n",
        "\n",
        "\n",
        "# print('last index', ids[-1])\n",
        "\n",
        "# # update the dataset with new columns.\n",
        "\n",
        "\n",
        "\n",
        "# dataset_size = len(ids)\n",
        "\n",
        "# block_size = 500\n",
        "\n",
        "# current_start = 0\n",
        "\n",
        "# current_end = 0\n",
        "\n",
        "# while current_end < dataset_size:\n",
        "\n",
        "#   if current_start >= dataset_size:\n",
        "#     exit\n",
        "\n",
        "#   current_end = current_start + block_size\n",
        "\n",
        "#   if current_end >= dataset_size:\n",
        "#     current_end = dataset_size\n",
        "\n",
        "#   text_block = texts[current_start : current_end]\n",
        "\n",
        "#   ids_block = ids[current_start : current_end]\n",
        "\n",
        "#   # print(ids_block[0], '', ids_block[len(ids_block) -1])\n",
        "\n",
        "#   # get the results...\n",
        "#   results = do_predictions(text_block)\n",
        "\n",
        "#   prob_values = results[0]\n",
        "\n",
        "#   label_values = results[1]\n",
        "\n",
        "#   print(results[0], results[1])\n",
        "\n",
        "#   # process the dataset\n",
        "\n",
        "#   for ind in range(len(ids_block)):\n",
        "\n",
        "#     df_read.loc[ids_block[ind], 'PredictedLabel'] = class_lables[label_values[ind]]\n",
        "\n",
        "#     for lbl_ind in range(len(class_lables)):\n",
        "#       df_read.loc[ids_block[ind], class_lables[lbl_ind]] = \"{0:.4}\".format(prob_values[ind][lbl_ind])\n",
        "\n",
        "\n",
        "#   current_start = current_start + block_size\n",
        "\n",
        "# # finally save the dataset.\n",
        "# df_read.to_excel('drive/MyDrive/NLP-BERT_classification/sentiment-prediction/Alphonso~Davies_original_tweets_20210401T115505.xlsx')\n",
        "\n",
        "\n",
        "\n"
      ],
      "execution_count": null,
      "outputs": [
        {
          "output_type": "stream",
          "text": [
            "['negative', 'neutral', 'positive']\n",
            "last index 349\n",
            "[[0.03910295 0.8928099  0.06808709]\n",
            " [0.04395525 0.5525398  0.4035049 ]\n",
            " [0.02602162 0.5215626  0.45241576]\n",
            " ...\n",
            " [0.0247486  0.4125626  0.5626888 ]\n",
            " [0.02049158 0.27359346 0.705915  ]\n",
            " [0.01912276 0.22936867 0.7515086 ]] [1, 1, 1, 2, 1, 1, 2, 1, 1, 2, 2, 2, 1, 2, 1, 1, 1, 2, 1, 1, 1, 1, 2, 2, 2, 1, 2, 1, 2, 2, 2, 2, 2, 2, 1, 2, 2, 2, 2, 2, 1, 2, 2, 1, 2, 2, 2, 1, 1, 2, 2, 1, 2, 2, 2, 2, 2, 2, 2, 2, 2, 2, 2, 1, 2, 2, 2, 2, 1, 2, 1, 1, 2, 2, 2, 2, 1, 2, 2, 2, 2, 1, 2, 2, 2, 2, 2, 2, 2, 2, 2, 2, 2, 1, 2, 2, 2, 2, 2, 2, 2, 1, 2, 2, 1, 2, 2, 2, 2, 2, 2, 2, 1, 1, 2, 2, 2, 1, 1, 1, 1, 2, 2, 2, 1, 1, 1, 1, 1, 1, 1, 1, 1, 2, 1, 1, 1, 2, 1, 1, 1, 1, 2, 1, 1, 2, 2, 2, 2, 2, 1, 2, 1, 2, 2, 2, 2, 1, 2, 0, 2, 2, 2, 2, 2, 2, 2, 0, 0, 0, 0, 0, 0, 0, 0, 0, 0, 0, 0, 0, 0, 2, 2, 2, 0, 0, 0, 0, 2, 0, 0, 2, 2, 2, 2, 1, 2, 0, 0, 0, 0, 0, 0, 0, 0, 0, 1, 0, 0, 0, 0, 0, 0, 0, 0, 0, 2, 0, 0, 0, 0, 0, 0, 0, 0, 2, 0, 0, 2, 2, 2, 1, 2, 2, 2, 1, 2, 2, 2, 2, 0, 0, 0, 2, 0, 1, 0, 0, 2, 2, 2, 0, 1, 0, 0, 0, 2, 0, 0, 0, 2, 0, 0, 0, 0, 2, 2, 2, 2, 2, 0, 2, 2, 2, 2, 1, 0, 2, 2, 2, 0, 2, 2, 2, 2, 2, 2, 1, 0, 2, 2, 1, 2, 2, 2, 2, 2, 2, 2, 2, 2, 2, 2, 1, 0, 2, 2, 2, 2, 1, 1, 2, 1, 1, 1, 1, 2, 2, 1, 1, 1, 1, 1, 2, 1, 1, 2, 2, 1, 2, 2, 2, 1, 1, 1, 1, 2, 1, 2, 1, 1, 0, 1, 2, 2, 1, 2, 2, 2]\n"
          ],
          "name": "stdout"
        }
      ]
    },
    {
      "cell_type": "markdown",
      "metadata": {
        "id": "q89oT0n3N0m6"
      },
      "source": [
        "## 4. Predictions on Test Set"
      ]
    },
    {
      "cell_type": "markdown",
      "metadata": {
        "id": "Sqk_CPwjN_W0"
      },
      "source": [
        "### 4.1. Data Preparation"
      ]
    },
    {
      "cell_type": "markdown",
      "metadata": {
        "id": "_U3K1LbDZTOU"
      },
      "source": [
        "Let's revisit out test set shortly."
      ]
    },
    {
      "cell_type": "code",
      "metadata": {
        "id": "MaPBmrFBO-uQ",
        "colab": {
          "base_uri": "https://localhost:8080/",
          "height": 195
        },
        "outputId": "b86a95f9-d45c-469a-f44c-228610de2a54"
      },
      "source": [
        "test_data.sample(5)"
      ],
      "execution_count": null,
      "outputs": [
        {
          "output_type": "execute_result",
          "data": {
            "text/html": [
              "<div>\n",
              "<style scoped>\n",
              "    .dataframe tbody tr th:only-of-type {\n",
              "        vertical-align: middle;\n",
              "    }\n",
              "\n",
              "    .dataframe tbody tr th {\n",
              "        vertical-align: top;\n",
              "    }\n",
              "\n",
              "    .dataframe thead th {\n",
              "        text-align: right;\n",
              "    }\n",
              "</style>\n",
              "<table border=\"1\" class=\"dataframe\">\n",
              "  <thead>\n",
              "    <tr style=\"text-align: right;\">\n",
              "      <th></th>\n",
              "      <th>id</th>\n",
              "      <th>tweet</th>\n",
              "    </tr>\n",
              "  </thead>\n",
              "  <tbody>\n",
              "    <tr>\n",
              "      <th>471</th>\n",
              "      <td>18654</td>\n",
              "      <td>Friends and family: Never fly @JetBlue.  Absol...</td>\n",
              "    </tr>\n",
              "    <tr>\n",
              "      <th>1971</th>\n",
              "      <td>76265</td>\n",
              "      <td>@DeltaAssist @rogerioad I never have had a pro...</td>\n",
              "    </tr>\n",
              "    <tr>\n",
              "      <th>23</th>\n",
              "      <td>672</td>\n",
              "      <td>First flight in weeks. Counting on you @Americ...</td>\n",
              "    </tr>\n",
              "    <tr>\n",
              "      <th>2702</th>\n",
              "      <td>103263</td>\n",
              "      <td>\"@USAirways: You know that we can__t stay no m...</td>\n",
              "    </tr>\n",
              "    <tr>\n",
              "      <th>135</th>\n",
              "      <td>5137</td>\n",
              "      <td>@southwestair Here at SA Airport watching the ...</td>\n",
              "    </tr>\n",
              "  </tbody>\n",
              "</table>\n",
              "</div>"
            ],
            "text/plain": [
              "          id                                              tweet\n",
              "471    18654  Friends and family: Never fly @JetBlue.  Absol...\n",
              "1971   76265  @DeltaAssist @rogerioad I never have had a pro...\n",
              "23       672  First flight in weeks. Counting on you @Americ...\n",
              "2702  103263  \"@USAirways: You know that we can__t stay no m...\n",
              "135     5137  @southwestair Here at SA Airport watching the ..."
            ]
          },
          "metadata": {
            "tags": []
          },
          "execution_count": 41
        }
      ]
    },
    {
      "cell_type": "markdown",
      "metadata": {
        "id": "AzCpJBgWZYR_"
      },
      "source": [
        "Before making predictions on the test set, we need to redo processing and encoding steps done on the training data. Fortunately, we have written the `preprocessing_for_bert` function to do that for us."
      ]
    },
    {
      "cell_type": "code",
      "metadata": {
        "id": "56QTDchdOHBL",
        "colab": {
          "base_uri": "https://localhost:8080/"
        },
        "outputId": "4ae5f829-e061-4a26-922d-ad64f8ab457b"
      },
      "source": [
        "# Run `preprocessing_for_bert` on the test set\n",
        "print('Tokenizing data...')\n",
        "test_inputs, test_masks = preprocessing_for_bert(test_data.tweet)\n",
        "\n",
        "# Create the DataLoader for our test set\n",
        "test_dataset = TensorDataset(test_inputs, test_masks)\n",
        "test_sampler = SequentialSampler(test_dataset)\n",
        "test_dataloader = DataLoader(test_dataset, sampler=test_sampler, batch_size=32)"
      ],
      "execution_count": null,
      "outputs": [
        {
          "output_type": "stream",
          "text": [
            "Tokenizing data...\n"
          ],
          "name": "stdout"
        }
      ]
    },
    {
      "cell_type": "markdown",
      "metadata": {
        "id": "pYv9lSXsQCZ2"
      },
      "source": [
        "### 4.2. Predictions"
      ]
    },
    {
      "cell_type": "markdown",
      "metadata": {
        "id": "YsSlCGCAajmD"
      },
      "source": [
        "There are about 300 non-negative tweets in our test set. Therefore, we will keep adjusting the decision threshold until we have about 300 non-negative tweets.\n",
        "\n",
        "The threshold we will use is 0.992, meaning that tweets with a predicted probability greater than 99.2% will be predicted positive. This value is very high compared to the default 0.5 threshold.\n",
        "\n",
        "After manually examining the test set, I find that the sentiment classification task here is even difficult for human. Therefore, a high threshold will give us safe predictions."
      ]
    },
    {
      "cell_type": "code",
      "metadata": {
        "id": "tGx8h7yXRkfI",
        "colab": {
          "base_uri": "https://localhost:8080/"
        },
        "outputId": "0ddc672f-94e7-4f29-cce7-b6a70de6522b"
      },
      "source": [
        "# Compute predicted probabilities on the test set\n",
        "probs = bert_predict(bert_classifier, test_dataloader)\n",
        "\n",
        "print(probs)\n",
        "\n",
        "# Get predictions from the probabilities\n",
        "threshold = 0.9\n",
        "preds = np.where(probs[:, 1] > threshold, 1, 0)\n",
        "\n",
        "# Number of tweets predicted non-negative\n",
        "print(\"Number of tweets predicted non-negative: \", preds.sum())"
      ],
      "execution_count": null,
      "outputs": [
        {
          "output_type": "stream",
          "text": [
            "[[0.57951164 0.38071847 0.03976984]\n",
            " [0.25892743 0.6211439  0.1199287 ]\n",
            " [0.32157913 0.6170183  0.06140257]\n",
            " ...\n",
            " [0.67705613 0.29995668 0.02298728]\n",
            " [0.1232857  0.6893884  0.18732591]\n",
            " [0.3981027  0.5427108  0.05918655]]\n",
            "Number of tweets predicted non-negative:  3\n"
          ],
          "name": "stdout"
        }
      ]
    },
    {
      "cell_type": "markdown",
      "metadata": {
        "id": "0GMqDdsScTQb"
      },
      "source": [
        "Now we will examine 20 random tweets from our predictions. 17 of them are correct, showing that the BERT Classifier acquires about 0.85 precision rate."
      ]
    },
    {
      "cell_type": "code",
      "metadata": {
        "id": "aCTfCTRfWZhe",
        "colab": {
          "base_uri": "https://localhost:8080/"
        },
        "outputId": "e46e458e-5bfd-40ad-98a7-502491bb99b5"
      },
      "source": [
        "output = test_data[preds==1]\n",
        "list(output.sample(20).tweet)"
      ],
      "execution_count": null,
      "outputs": [
        {
          "output_type": "execute_result",
          "data": {
            "text/plain": [
              "['@AmericanAir Hi, I cancelled QMVFNJ more than 24 hours ago but no miles have been redeposited back to my account. Please check.',\n",
              " \"@JetBlue hey JB can you tell us why our flight is delayed but it's in 4 hours? Jb1038\",\n",
              " 'PSA. Never fly @AmericanAir, always fly @SouthwestAir.',\n",
              " 'Spain is waiting for you. @Imaginedragons @SouthwestAir',\n",
              " 'I been on hold 17 minutes @JetBlue',\n",
              " '@SammyRosati @SouthwestAir uh oh - stuck in Chicago? #SouthWestAirlines',\n",
              " \"Call Me Maybe: my ballad to the airline that has lost my luggage. I'm waiting in the same pair of pants you left me, @SouthwestAir\",\n",
              " '#delayed (at @United Club in Orlando, FL) https://t.co/gR7m6o3tIi',\n",
              " 'Problems for @AlaskaAir passengers-- a network outage is delaying flights. Details #kgwnow at 11pm. @KGWNews @flypdx',\n",
              " '@DeltaAssist any idea how much longer this will take? #StillOnHold http://t.co/D8jusvg4rt',\n",
              " '@united my flight from OKC to Dulles is delayed.   I have a connecting flight to London.  My confirmation is pd75js news?',\n",
              " 'NEWS: @VirginAmerica to launch 5x daily service from @DallasLoveField to #Austin in late April. #DAL #airlines http://t.co/5omyHNrgwy',\n",
              " 'Understandable to reroute with weather delays, but a 30+ minute delay to add fuel to a plane?  Come on. @AmericanAir',\n",
              " '@united Please help me understand why our flight 1020 has been delayed 2 hours (!) in Boston. Any way you can help us connect to 1410 @ IAH?',\n",
              " '@AmericanAir. EXCUSE ME SHOW ME FLIGHTS TO LA!!!!!!!!!!!  https://t.co/iybX3l2uaV',\n",
              " '@AmericanAir do you answer tweets faster than you answer the phone? On hold 2.5 hours and counting! http://t.co/fm6S8LWn3B',\n",
              " '@DeltaAssist can u get me on Appleton flight since GeV is delayed?',\n",
              " '.@AmericanAir featured @The_Alexander in their September issue! Check it out &gt;&gt; http://t.co/tEcjc1oJXv',\n",
              " '@ACEJT @AmericanAir I work at NBC news, can I call you to speak with you about being stuck on the plane. 312.836.5658',\n",
              " 'Um am I in Brussels already @united?? No, just \"landed\" back at gate for maintenance issue. Issues w/ app?? #travel http://t.co/aELUYfkDDX']"
            ]
          },
          "metadata": {
            "tags": []
          },
          "execution_count": 119
        }
      ]
    },
    {
      "cell_type": "markdown",
      "metadata": {
        "id": "k_OcVenocEH_"
      },
      "source": [
        "# E - Conclusion"
      ]
    },
    {
      "cell_type": "markdown",
      "metadata": {
        "id": "UMg9ZUvocF6U"
      },
      "source": [
        "By adding a simple one-hidden-layer neural network classifier on top of BERT and fine-tuning BERT, we can achieve near state-of-the-art performance, which is 10 points better than the baseline method although we only have 3,400 data points.\n",
        "\n",
        "In addition, although BERT is very large, complicated, and have millions of parameters, we only need to fine-tune it in only 2-4 epochs. That result can be achieved because BERT was trained on the huge amount and already encode a lot of information about our language. An impresive performance achieved in a short amount of time, with a small amount of data has shown why BERT is one of the most powerful NLP models available at the moment. "
      ]
    },
    {
      "cell_type": "code",
      "metadata": {
        "id": "xs-wu0bYFkOu",
        "colab": {
          "base_uri": "https://localhost:8080/"
        },
        "outputId": "765c56e5-8690-4bc6-fc8c-697281f991fc"
      },
      "source": [
        "# To get max value and max value location.\n",
        "import numpy as np\n",
        "import numpy as numpy\n",
        "\n",
        "arr = np.array([11, 12, 13, 14, 15, 16, 17, 15, 11, 12, 14, 15, 16, 12])\n",
        "\n",
        "maxElement = np.amax(arr)\n",
        "\n",
        "result = np.where(arr == np.amax(arr))\n",
        "\n",
        "print(maxElement, ', position', result)\n",
        "\n",
        "print(np.where(arr == np.amax(arr))[0][0])\n"
      ],
      "execution_count": null,
      "outputs": [
        {
          "output_type": "stream",
          "text": [
            "17 , position (array([6]),)\n",
            "6\n"
          ],
          "name": "stdout"
        }
      ]
    },
    {
      "cell_type": "code",
      "metadata": {
        "colab": {
          "base_uri": "https://localhost:8080/"
        },
        "id": "jC1epuKO9xjm",
        "outputId": "f3e5e37f-db71-4f55-e672-48d7634ea1fc"
      },
      "source": [
        "# Create a 2D Numpy array from list of lists\n",
        "arr2D = numpy.array([[11, 12, 13],\n",
        "                     [14, 15, 16],\n",
        "                     [17, 15, 11],\n",
        "                     [12, 14, 15]])\n",
        "\n",
        "for i in arr2D:\n",
        "  print(i)\n",
        "\n",
        "# Get the maximum value from complete 2D numpy array\n",
        "maxValue = numpy.amax(arr2D)\n",
        "\n",
        "# Get the maximum values of each column i.e. along axis 0\n",
        "maxInRows = numpy.amax(arr2D, axis=1)\n",
        "\n",
        "print('Max value of every row: ', maxInRows)\n",
        "\n",
        "rowlocations = np.where(arr2D == np.amax(arr2D, axis=1))\n",
        "\n",
        "print(rowlocations)"
      ],
      "execution_count": null,
      "outputs": [
        {
          "output_type": "stream",
          "text": [
            "[11 12 13]\n",
            "[14 15 16]\n",
            "[17 15 11]\n",
            "[12 14 15]\n",
            "Max value of every row:  [13 16 17 15]\n",
            "(array([], dtype=int64),)\n"
          ],
          "name": "stdout"
        },
        {
          "output_type": "stream",
          "text": [
            "/usr/local/lib/python3.7/dist-packages/ipykernel_launcher.py:18: DeprecationWarning: elementwise comparison failed; this will raise an error in the future.\n"
          ],
          "name": "stderr"
        }
      ]
    },
    {
      "cell_type": "code",
      "metadata": {
        "id": "QtlTX-a1A1Ro"
      },
      "source": [
        ""
      ],
      "execution_count": null,
      "outputs": []
    }
  ]
}